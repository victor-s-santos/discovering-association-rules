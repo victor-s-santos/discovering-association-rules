{
 "cells": [
  {
   "cell_type": "markdown",
   "metadata": {},
   "source": [
    "# Exploring our Data\n",
    ">Lets take a look at some information"
   ]
  },
  {
   "cell_type": "code",
   "execution_count": 2,
   "metadata": {},
   "outputs": [
    {
     "data": {
      "text/html": [
       "<div>\n",
       "<style scoped>\n",
       "    .dataframe tbody tr th:only-of-type {\n",
       "        vertical-align: middle;\n",
       "    }\n",
       "\n",
       "    .dataframe tbody tr th {\n",
       "        vertical-align: top;\n",
       "    }\n",
       "\n",
       "    .dataframe thead th {\n",
       "        text-align: right;\n",
       "    }\n",
       "</style>\n",
       "<table border=\"1\" class=\"dataframe\">\n",
       "  <thead>\n",
       "    <tr style=\"text-align: right;\">\n",
       "      <th></th>\n",
       "      <th>total_pontos</th>\n",
       "      <th>curso</th>\n",
       "      <th>sexo</th>\n",
       "      <th>idade</th>\n",
       "      <th>local_origem</th>\n",
       "      <th>tipo_instituicao</th>\n",
       "      <th>renda_familiar</th>\n",
       "      <th>tipo_residencia</th>\n",
       "      <th>grau_escolaridade</th>\n",
       "      <th>motivo</th>\n",
       "      <th>...</th>\n",
       "      <th>instrucao_pai</th>\n",
       "      <th>instrucao_mae</th>\n",
       "      <th>automovel</th>\n",
       "      <th>livros</th>\n",
       "      <th>leitura</th>\n",
       "      <th>internet</th>\n",
       "      <th>age_interval</th>\n",
       "      <th>class_period</th>\n",
       "      <th>course_name</th>\n",
       "      <th>degree</th>\n",
       "    </tr>\n",
       "  </thead>\n",
       "  <tbody>\n",
       "    <tr>\n",
       "      <th>0</th>\n",
       "      <td>31.0</td>\n",
       "      <td>ENGENHARIA AGRONÔMICA</td>\n",
       "      <td>M</td>\n",
       "      <td>23</td>\n",
       "      <td>Zona Urbana</td>\n",
       "      <td>Apenas em escola pública</td>\n",
       "      <td>Maior que R$ 1530,00</td>\n",
       "      <td>Alugada</td>\n",
       "      <td>Médio Completo</td>\n",
       "      <td>Realização pessoal</td>\n",
       "      <td>...</td>\n",
       "      <td>Ensino Médio Incompleto</td>\n",
       "      <td>Ensino Médio Completo</td>\n",
       "      <td>Sim</td>\n",
       "      <td>Nenhum livro</td>\n",
       "      <td>Outro</td>\n",
       "      <td>Diariamente</td>\n",
       "      <td>Age between 22 and 30</td>\n",
       "      <td>integral</td>\n",
       "      <td>ENGENHARIA AGRONÔMICA</td>\n",
       "      <td>Bacharel</td>\n",
       "    </tr>\n",
       "    <tr>\n",
       "      <th>1</th>\n",
       "      <td>45.0</td>\n",
       "      <td>ENSINO MÉDIO E TÉCNICO EM AGROPECUÁRIA</td>\n",
       "      <td>M</td>\n",
       "      <td>16</td>\n",
       "      <td>Zona Rural</td>\n",
       "      <td>Apenas em escola pública</td>\n",
       "      <td>R$ 511,00 a 765,00</td>\n",
       "      <td>Própria</td>\n",
       "      <td>Fundamental</td>\n",
       "      <td>Realização pessoal</td>\n",
       "      <td>...</td>\n",
       "      <td>Ensino Fundam. incompleto</td>\n",
       "      <td>Ensino Fundam. incompleto</td>\n",
       "      <td>Sim</td>\n",
       "      <td>1 ou 2 livros</td>\n",
       "      <td>Outro</td>\n",
       "      <td>Não utiliza</td>\n",
       "      <td>Age less than 17</td>\n",
       "      <td>integral</td>\n",
       "      <td>AGROPECUÁRIA</td>\n",
       "      <td>Ensino Médio e Técnico</td>\n",
       "    </tr>\n",
       "    <tr>\n",
       "      <th>2</th>\n",
       "      <td>62.0</td>\n",
       "      <td>TÉCNICO EM INFORMÁTICA - NOTURNO</td>\n",
       "      <td>F</td>\n",
       "      <td>27</td>\n",
       "      <td>Zona Urbana</td>\n",
       "      <td>Apenas em escola pública</td>\n",
       "      <td>R$ 511,00 a 765,00</td>\n",
       "      <td>Própria</td>\n",
       "      <td>Médio Completo</td>\n",
       "      <td>Possibilidades no mercado de trabalho</td>\n",
       "      <td>...</td>\n",
       "      <td>Ensino Fundam. incompleto</td>\n",
       "      <td>Ensino Fundamental Completo</td>\n",
       "      <td>Não</td>\n",
       "      <td>1 ou 2 livros</td>\n",
       "      <td>Outro</td>\n",
       "      <td>Diariamente</td>\n",
       "      <td>Age between 22 and 30</td>\n",
       "      <td>noturno</td>\n",
       "      <td>INFORMÁTICA</td>\n",
       "      <td>Técnico</td>\n",
       "    </tr>\n",
       "    <tr>\n",
       "      <th>3</th>\n",
       "      <td>59.0</td>\n",
       "      <td>TÉCNICO EM AGROPECUÁRIA</td>\n",
       "      <td>M</td>\n",
       "      <td>20</td>\n",
       "      <td>Zona Urbana</td>\n",
       "      <td>Apenas em escola pública</td>\n",
       "      <td>R$ 1276,00 a 1530,00</td>\n",
       "      <td>Própria</td>\n",
       "      <td>Médio Completo</td>\n",
       "      <td>outro motivo</td>\n",
       "      <td>...</td>\n",
       "      <td>Ensino Médio Completo</td>\n",
       "      <td>Ensino Médio Incompleto</td>\n",
       "      <td>Sim</td>\n",
       "      <td>1 ou 2 livros</td>\n",
       "      <td>Ficção</td>\n",
       "      <td>Diariamente</td>\n",
       "      <td>Age between 17 and 22</td>\n",
       "      <td>integral</td>\n",
       "      <td>AGROPECUÁRIA</td>\n",
       "      <td>Técnico</td>\n",
       "    </tr>\n",
       "    <tr>\n",
       "      <th>4</th>\n",
       "      <td>49.2</td>\n",
       "      <td>CIÊNCIA DA COMPUTAÇÃO - BACHARELADO</td>\n",
       "      <td>F</td>\n",
       "      <td>19</td>\n",
       "      <td>Zona Urbana</td>\n",
       "      <td>Apenas em escola pública</td>\n",
       "      <td>R$ 511,00 a 765,00</td>\n",
       "      <td>Própria</td>\n",
       "      <td>Médio Incompleto</td>\n",
       "      <td>Possibilidades no mercado de trabalho</td>\n",
       "      <td>...</td>\n",
       "      <td>Ensino Fundam. incompleto</td>\n",
       "      <td>Ensino Médio Completo</td>\n",
       "      <td>Sim</td>\n",
       "      <td>Mais de 5 livros</td>\n",
       "      <td>Outro</td>\n",
       "      <td>Diariamente</td>\n",
       "      <td>Age between 17 and 22</td>\n",
       "      <td>noturno</td>\n",
       "      <td>CIÊNCIA DA COMPUTAÇÃO</td>\n",
       "      <td>Bacharel</td>\n",
       "    </tr>\n",
       "    <tr>\n",
       "      <th>...</th>\n",
       "      <td>...</td>\n",
       "      <td>...</td>\n",
       "      <td>...</td>\n",
       "      <td>...</td>\n",
       "      <td>...</td>\n",
       "      <td>...</td>\n",
       "      <td>...</td>\n",
       "      <td>...</td>\n",
       "      <td>...</td>\n",
       "      <td>...</td>\n",
       "      <td>...</td>\n",
       "      <td>...</td>\n",
       "      <td>...</td>\n",
       "      <td>...</td>\n",
       "      <td>...</td>\n",
       "      <td>...</td>\n",
       "      <td>...</td>\n",
       "      <td>...</td>\n",
       "      <td>...</td>\n",
       "      <td>...</td>\n",
       "      <td>...</td>\n",
       "    </tr>\n",
       "    <tr>\n",
       "      <th>1321</th>\n",
       "      <td>34.2</td>\n",
       "      <td>EDUCAÇÃO FÍSICA - BACHARELADO - NOTURNO</td>\n",
       "      <td>M</td>\n",
       "      <td>23</td>\n",
       "      <td>Zona Urbana</td>\n",
       "      <td>Apenas em escola pública</td>\n",
       "      <td>R$ 766,00 a 1275,00</td>\n",
       "      <td>Própria</td>\n",
       "      <td>Médio Incompleto</td>\n",
       "      <td>Contribuição para a sociedade</td>\n",
       "      <td>...</td>\n",
       "      <td>Ensino Fundam. incompleto</td>\n",
       "      <td>Ensino Médio Incompleto</td>\n",
       "      <td>Sim</td>\n",
       "      <td>1 ou 2 livros</td>\n",
       "      <td>Ficção</td>\n",
       "      <td>Diariamente</td>\n",
       "      <td>Age between 22 and 30</td>\n",
       "      <td>noturno</td>\n",
       "      <td>EDUCAÇÃO FÍSICA</td>\n",
       "      <td>Bacharel</td>\n",
       "    </tr>\n",
       "    <tr>\n",
       "      <th>1322</th>\n",
       "      <td>34.0</td>\n",
       "      <td>TÉCNICO EM ENFERMAGEM - NOTURNO</td>\n",
       "      <td>F</td>\n",
       "      <td>26</td>\n",
       "      <td>Zona Urbana</td>\n",
       "      <td>Apenas em escola pública</td>\n",
       "      <td>R$ 511,00 a 765,00</td>\n",
       "      <td>Própria</td>\n",
       "      <td>Médio Completo</td>\n",
       "      <td>Possibilidades no mercado de trabalho</td>\n",
       "      <td>...</td>\n",
       "      <td>Ensino Médio Completo</td>\n",
       "      <td>Ensino Fundam. incompleto</td>\n",
       "      <td>Sim</td>\n",
       "      <td>1 ou 2 livros</td>\n",
       "      <td>Outro</td>\n",
       "      <td>Diariamente</td>\n",
       "      <td>Age between 22 and 30</td>\n",
       "      <td>noturno</td>\n",
       "      <td>ENFERMAGEM</td>\n",
       "      <td>Técnico</td>\n",
       "    </tr>\n",
       "    <tr>\n",
       "      <th>1323</th>\n",
       "      <td>61.0</td>\n",
       "      <td>ENSINO MÉDIO E TÉCNICO EM AGROPECUÁRIA</td>\n",
       "      <td>M</td>\n",
       "      <td>16</td>\n",
       "      <td>Zona Rural</td>\n",
       "      <td>Apenas em escola pública</td>\n",
       "      <td>R$ 766,00 a 1275,00</td>\n",
       "      <td>Própria</td>\n",
       "      <td>Fundamental</td>\n",
       "      <td>Possibilidades no mercado de trabalho</td>\n",
       "      <td>...</td>\n",
       "      <td>Ensino Fundam. incompleto</td>\n",
       "      <td>Ensino Fundam. incompleto</td>\n",
       "      <td>Sim</td>\n",
       "      <td>1 ou 2 livros</td>\n",
       "      <td>Romance</td>\n",
       "      <td>Diariamente</td>\n",
       "      <td>Age less than 17</td>\n",
       "      <td>integral</td>\n",
       "      <td>AGROPECUÁRIA</td>\n",
       "      <td>Ensino Médio e Técnico</td>\n",
       "    </tr>\n",
       "    <tr>\n",
       "      <th>1324</th>\n",
       "      <td>26.4</td>\n",
       "      <td>EDUCAÇÃO FÍSICA - LICENCIATURA - NOTURNO</td>\n",
       "      <td>F</td>\n",
       "      <td>19</td>\n",
       "      <td>Zona Urbana</td>\n",
       "      <td>Apenas em escola pública</td>\n",
       "      <td>R$ 1276,00 a 1530,00</td>\n",
       "      <td>Própria</td>\n",
       "      <td>Médio Completo</td>\n",
       "      <td>Realização pessoal</td>\n",
       "      <td>...</td>\n",
       "      <td>Ensino Fundamental Completo</td>\n",
       "      <td>Ensino Fundamental Completo</td>\n",
       "      <td>Não</td>\n",
       "      <td>1 ou 2 livros</td>\n",
       "      <td>Romance</td>\n",
       "      <td>Diariamente</td>\n",
       "      <td>Age between 17 and 22</td>\n",
       "      <td>noturno</td>\n",
       "      <td>EDUCAÇÃO FÍSICA</td>\n",
       "      <td>Licenciatura</td>\n",
       "    </tr>\n",
       "    <tr>\n",
       "      <th>1325</th>\n",
       "      <td>23.8</td>\n",
       "      <td>ENGENHARIA AGRONÔMICA</td>\n",
       "      <td>M</td>\n",
       "      <td>21</td>\n",
       "      <td>Zona Urbana</td>\n",
       "      <td>Apenas em escola pública</td>\n",
       "      <td>R$ 766,00 a 1275,00</td>\n",
       "      <td>Própria</td>\n",
       "      <td>Médio Completo</td>\n",
       "      <td>Realização pessoal</td>\n",
       "      <td>...</td>\n",
       "      <td>Ensino Fundam. incompleto</td>\n",
       "      <td>Ensino Fundam. incompleto</td>\n",
       "      <td>Sim</td>\n",
       "      <td>1 ou 2 livros</td>\n",
       "      <td>Outro</td>\n",
       "      <td>Semanalmente (algumas vezes)</td>\n",
       "      <td>Age between 17 and 22</td>\n",
       "      <td>integral</td>\n",
       "      <td>ENGENHARIA AGRONÔMICA</td>\n",
       "      <td>Bacharel</td>\n",
       "    </tr>\n",
       "  </tbody>\n",
       "</table>\n",
       "<p>1326 rows × 21 columns</p>\n",
       "</div>"
      ],
      "text/plain": [
       "      total_pontos                                     curso sexo  idade  \\\n",
       "0             31.0                     ENGENHARIA AGRONÔMICA    M     23   \n",
       "1             45.0    ENSINO MÉDIO E TÉCNICO EM AGROPECUÁRIA    M     16   \n",
       "2             62.0          TÉCNICO EM INFORMÁTICA - NOTURNO    F     27   \n",
       "3             59.0                   TÉCNICO EM AGROPECUÁRIA    M     20   \n",
       "4             49.2       CIÊNCIA DA COMPUTAÇÃO - BACHARELADO    F     19   \n",
       "...            ...                                       ...  ...    ...   \n",
       "1321          34.2   EDUCAÇÃO FÍSICA - BACHARELADO - NOTURNO    M     23   \n",
       "1322          34.0           TÉCNICO EM ENFERMAGEM - NOTURNO    F     26   \n",
       "1323          61.0    ENSINO MÉDIO E TÉCNICO EM AGROPECUÁRIA    M     16   \n",
       "1324          26.4  EDUCAÇÃO FÍSICA - LICENCIATURA - NOTURNO    F     19   \n",
       "1325          23.8                     ENGENHARIA AGRONÔMICA    M     21   \n",
       "\n",
       "     local_origem          tipo_instituicao        renda_familiar  \\\n",
       "0     Zona Urbana  Apenas em escola pública  Maior que R$ 1530,00   \n",
       "1      Zona Rural  Apenas em escola pública    R$ 511,00 a 765,00   \n",
       "2     Zona Urbana  Apenas em escola pública    R$ 511,00 a 765,00   \n",
       "3     Zona Urbana  Apenas em escola pública  R$ 1276,00 a 1530,00   \n",
       "4     Zona Urbana  Apenas em escola pública    R$ 511,00 a 765,00   \n",
       "...           ...                       ...                   ...   \n",
       "1321  Zona Urbana  Apenas em escola pública   R$ 766,00 a 1275,00   \n",
       "1322  Zona Urbana  Apenas em escola pública    R$ 511,00 a 765,00   \n",
       "1323   Zona Rural  Apenas em escola pública   R$ 766,00 a 1275,00   \n",
       "1324  Zona Urbana  Apenas em escola pública  R$ 1276,00 a 1530,00   \n",
       "1325  Zona Urbana  Apenas em escola pública   R$ 766,00 a 1275,00   \n",
       "\n",
       "     tipo_residencia grau_escolaridade                                 motivo  \\\n",
       "0            Alugada    Médio Completo                     Realização pessoal   \n",
       "1            Própria       Fundamental                     Realização pessoal   \n",
       "2            Própria    Médio Completo  Possibilidades no mercado de trabalho   \n",
       "3            Própria    Médio Completo                           outro motivo   \n",
       "4            Própria  Médio Incompleto  Possibilidades no mercado de trabalho   \n",
       "...              ...               ...                                    ...   \n",
       "1321         Própria  Médio Incompleto          Contribuição para a sociedade   \n",
       "1322         Própria    Médio Completo  Possibilidades no mercado de trabalho   \n",
       "1323         Própria       Fundamental  Possibilidades no mercado de trabalho   \n",
       "1324         Própria    Médio Completo                     Realização pessoal   \n",
       "1325         Própria    Médio Completo                     Realização pessoal   \n",
       "\n",
       "      ...                instrucao_pai                instrucao_mae automovel  \\\n",
       "0     ...      Ensino Médio Incompleto        Ensino Médio Completo       Sim   \n",
       "1     ...    Ensino Fundam. incompleto    Ensino Fundam. incompleto       Sim   \n",
       "2     ...    Ensino Fundam. incompleto  Ensino Fundamental Completo       Não   \n",
       "3     ...        Ensino Médio Completo      Ensino Médio Incompleto       Sim   \n",
       "4     ...    Ensino Fundam. incompleto        Ensino Médio Completo       Sim   \n",
       "...   ...                          ...                          ...       ...   \n",
       "1321  ...    Ensino Fundam. incompleto      Ensino Médio Incompleto       Sim   \n",
       "1322  ...        Ensino Médio Completo    Ensino Fundam. incompleto       Sim   \n",
       "1323  ...    Ensino Fundam. incompleto    Ensino Fundam. incompleto       Sim   \n",
       "1324  ...  Ensino Fundamental Completo  Ensino Fundamental Completo       Não   \n",
       "1325  ...    Ensino Fundam. incompleto    Ensino Fundam. incompleto       Sim   \n",
       "\n",
       "                livros  leitura                      internet  \\\n",
       "0         Nenhum livro    Outro                   Diariamente   \n",
       "1        1 ou 2 livros    Outro                   Não utiliza   \n",
       "2        1 ou 2 livros    Outro                   Diariamente   \n",
       "3        1 ou 2 livros   Ficção                   Diariamente   \n",
       "4     Mais de 5 livros    Outro                   Diariamente   \n",
       "...                ...      ...                           ...   \n",
       "1321     1 ou 2 livros   Ficção                   Diariamente   \n",
       "1322     1 ou 2 livros    Outro                   Diariamente   \n",
       "1323     1 ou 2 livros  Romance                   Diariamente   \n",
       "1324     1 ou 2 livros  Romance                   Diariamente   \n",
       "1325     1 ou 2 livros    Outro  Semanalmente (algumas vezes)   \n",
       "\n",
       "               age_interval class_period            course_name  \\\n",
       "0     Age between 22 and 30     integral  ENGENHARIA AGRONÔMICA   \n",
       "1          Age less than 17     integral           AGROPECUÁRIA   \n",
       "2     Age between 22 and 30      noturno            INFORMÁTICA   \n",
       "3     Age between 17 and 22     integral           AGROPECUÁRIA   \n",
       "4     Age between 17 and 22      noturno  CIÊNCIA DA COMPUTAÇÃO   \n",
       "...                     ...          ...                    ...   \n",
       "1321  Age between 22 and 30      noturno        EDUCAÇÃO FÍSICA   \n",
       "1322  Age between 22 and 30      noturno             ENFERMAGEM   \n",
       "1323       Age less than 17     integral           AGROPECUÁRIA   \n",
       "1324  Age between 17 and 22      noturno        EDUCAÇÃO FÍSICA   \n",
       "1325  Age between 17 and 22     integral  ENGENHARIA AGRONÔMICA   \n",
       "\n",
       "                      degree  \n",
       "0                   Bacharel  \n",
       "1     Ensino Médio e Técnico  \n",
       "2                    Técnico  \n",
       "3                    Técnico  \n",
       "4                   Bacharel  \n",
       "...                      ...  \n",
       "1321                Bacharel  \n",
       "1322                 Técnico  \n",
       "1323  Ensino Médio e Técnico  \n",
       "1324            Licenciatura  \n",
       "1325                Bacharel  \n",
       "\n",
       "[1326 rows x 21 columns]"
      ]
     },
     "execution_count": 2,
     "metadata": {},
     "output_type": "execute_result"
    }
   ],
   "source": [
    "import pandas as pd\n",
    "df = pd.read_csv('source/pre_processed2.csv')\n",
    "df"
   ]
  },
  {
   "cell_type": "markdown",
   "metadata": {},
   "source": [
    "# Some charts\n",
    ">Lets use some charts to improve our data visualization"
   ]
  },
  {
   "cell_type": "code",
   "execution_count": 42,
   "metadata": {},
   "outputs": [],
   "source": [
    "from matplotlib import pyplot as plt"
   ]
  },
  {
   "cell_type": "code",
   "execution_count": 43,
   "metadata": {},
   "outputs": [
    {
     "data": {
      "text/plain": [
       "{'Zona Rural': 255, 'Zona Urbana': 1071}"
      ]
     },
     "execution_count": 43,
     "metadata": {},
     "output_type": "execute_result"
    }
   ],
   "source": [
    "local_origem = df.groupby('local_origem').size().to_dict()\n",
    "local_origem"
   ]
  },
  {
   "cell_type": "code",
   "execution_count": 51,
   "metadata": {},
   "outputs": [
    {
     "data": {
      "image/png": "[encoded data removed]",
      "text/plain": [
       "<Figure size 432x288 with 1 Axes>"
      ]
     },
     "metadata": {
      "needs_background": "light"
     },
     "output_type": "display_data"
    }
   ],
   "source": [
    "_ = plt.bar(list(local_origem.keys()), list(local_origem.values()))\n",
    "_ = plt.xlabel('Tipo de Região')\n",
    "_ = plt.ylabel('Número de ocorrências')\n",
    "plt.show()"
   ]
  },
  {
   "cell_type": "code",
   "execution_count": 52,
   "metadata": {},
   "outputs": [
    {
     "data": {
      "text/plain": [
       "{'F': 550, 'M': 776}"
      ]
     },
     "execution_count": 52,
     "metadata": {},
     "output_type": "execute_result"
    }
   ],
   "source": [
    "sexo = df.groupby('sexo').size().to_dict()\n",
    "sexo"
   ]
  },
  {
   "cell_type": "code",
   "execution_count": 53,
   "metadata": {},
   "outputs": [
    {
     "data": {
      "image/png": "[encoded data removed]",
      "text/plain": [
       "<Figure size 432x288 with 1 Axes>"
      ]
     },
     "metadata": {
      "needs_background": "light"
     },
     "output_type": "display_data"
    }
   ],
   "source": [
    "_ = plt.bar(list(sexo.keys()), list(sexo.values()))\n",
    "_ = plt.xlabel('Gênero')\n",
    "_ = plt.ylabel('Número de ocorrências')\n",
    "plt.show()"
   ]
  },
  {
   "cell_type": "code",
   "execution_count": 54,
   "metadata": {},
   "outputs": [
    {
     "data": {
      "text/plain": [
       "{'Maior que R$ 1530,00': 244,\n",
       " 'Menor que R$ 255,00': 14,\n",
       " 'R$ 1276,00 a 1530,00': 200,\n",
       " 'R$ 255,00 a 510,00': 117,\n",
       " 'R$ 511,00 a 765,00': 332,\n",
       " 'R$ 766,00 a 1275,00': 419}"
      ]
     },
     "execution_count": 54,
     "metadata": {},
     "output_type": "execute_result"
    }
   ],
   "source": [
    "renda_familiar = df.groupby('renda_familiar').size().to_dict()\n",
    "renda_familiar"
   ]
  },
  {
   "cell_type": "code",
   "execution_count": 55,
   "metadata": {},
   "outputs": [
    {
     "data": {
      "image/png": "[encoded data removed]",
      "text/plain": [
       "<Figure size 432x288 with 1 Axes>"
      ]
     },
     "metadata": {
      "needs_background": "light"
     },
     "output_type": "display_data"
    }
   ],
   "source": [
    "_ = plt.bar(list(renda_familiar.keys()), list(renda_familiar.values()))\n",
    "_ = plt.xlabel('Renda Familiar')\n",
    "_ = plt.ylabel('Número de ocorrências')\n",
    "plt.show()"
   ]
  },
  {
   "cell_type": "code",
   "execution_count": 56,
   "metadata": {},
   "outputs": [
    {
     "data": {
      "text/plain": [
       "{'1 ou 2 livros': 617,\n",
       " '3 a 4 livros': 281,\n",
       " 'Mais de 5 livros': 299,\n",
       " 'Nenhum livro': 129}"
      ]
     },
     "execution_count": 56,
     "metadata": {},
     "output_type": "execute_result"
    }
   ],
   "source": [
    "livros = df.groupby('livros').size().to_dict()\n",
    "livros"
   ]
  },
  {
   "cell_type": "code",
   "execution_count": 57,
   "metadata": {},
   "outputs": [
    {
     "data": {
      "image/png": "[encoded data removed]",
      "text/plain": [
       "<Figure size 432x288 with 1 Axes>"
      ]
     },
     "metadata": {
      "needs_background": "light"
     },
     "output_type": "display_data"
    }
   ],
   "source": [
    "_ = plt.bar(list(livros.keys()), list(livros.values()))\n",
    "_ = plt.xlabel('Quantidade de livros lidos')\n",
    "_ = plt.ylabel('Número de ocorrências')\n",
    "plt.show()"
   ]
  },
  {
   "cell_type": "code",
   "execution_count": 58,
   "metadata": {},
   "outputs": [
    {
     "data": {
      "text/plain": [
       "{'Bacharel': 391,\n",
       " 'Ensino Médio e Técnico': 440,\n",
       " 'Licenciatura': 154,\n",
       " 'Técnico': 341}"
      ]
     },
     "execution_count": 58,
     "metadata": {},
     "output_type": "execute_result"
    }
   ],
   "source": [
    "degree = df.groupby('degree').size().to_dict()\n",
    "degree"
   ]
  },
  {
   "cell_type": "code",
   "execution_count": 60,
   "metadata": {},
   "outputs": [
    {
     "data": {
      "image/png": "[encoded data removed]",
      "text/plain": [
       "<Figure size 432x288 with 1 Axes>"
      ]
     },
     "metadata": {
      "needs_background": "light"
     },
     "output_type": "display_data"
    }
   ],
   "source": [
    "_ = plt.bar(list(degree.keys()), list(degree.values()))\n",
    "_ = plt.xlabel('Grau acadêmico escolhido')\n",
    "_ = plt.ylabel('Número de ocorrências')\n",
    "plt.show()"
   ]
  }
 ],
 "metadata": {
  "kernelspec": {
   "display_name": "Python 3",
   "language": "python",
   "name": "python3"
  },
  "language_info": {
   "codemirror_mode": {
    "name": "ipython",
    "version": 3
   },
   "file_extension": ".py",
   "mimetype": "text/x-python",
   "name": "python",
   "nbconvert_exporter": "python",
   "pygments_lexer": "ipython3",
   "version": "3.7.0"
  }
 },
 "nbformat": 4,
 "nbformat_minor": 4
}
