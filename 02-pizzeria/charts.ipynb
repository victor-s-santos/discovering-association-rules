{
 "cells": [
  {
   "cell_type": "markdown",
   "metadata": {},
   "source": [
    "# Visualizing data"
   ]
  },
  {
   "cell_type": "markdown",
   "metadata": {},
   "source": [
    "* read data"
   ]
  },
  {
   "cell_type": "code",
   "execution_count": 1,
   "metadata": {},
   "outputs": [
    {
     "name": "stderr",
     "output_type": "stream",
     "text": [
      "/home/visus/.pyenv/versions/3.7.0/lib/python3.7/site-packages/pandas/compat/__init__.py:117: UserWarning: Could not import the lzma module. Your installed Python is incomplete. Attempting to use lzma compression will result in a RuntimeError.\n",
      "  warnings.warn(msg)\n"
     ]
    },
    {
     "data": {
      "text/html": [
       "<div>\n",
       "<style scoped>\n",
       "    .dataframe tbody tr th:only-of-type {\n",
       "        vertical-align: middle;\n",
       "    }\n",
       "\n",
       "    .dataframe tbody tr th {\n",
       "        vertical-align: top;\n",
       "    }\n",
       "\n",
       "    .dataframe thead th {\n",
       "        text-align: right;\n",
       "    }\n",
       "</style>\n",
       "<table border=\"1\" class=\"dataframe\">\n",
       "  <thead>\n",
       "    <tr style=\"text-align: right;\">\n",
       "      <th></th>\n",
       "      <th>data_pedido</th>\n",
       "      <th>hora_pedido</th>\n",
       "      <th>tipo_entrega</th>\n",
       "      <th>valor_borda</th>\n",
       "      <th>valor_refrigerante</th>\n",
       "      <th>valor_total</th>\n",
       "      <th>tempo</th>\n",
       "      <th>dia_da_semana</th>\n",
       "      <th>periodo_de_vendas</th>\n",
       "      <th>borda</th>\n",
       "      <th>refrigerante</th>\n",
       "      <th>intervalo_valor</th>\n",
       "      <th>tempo2</th>\n",
       "      <th>intervalo</th>\n",
       "    </tr>\n",
       "  </thead>\n",
       "  <tbody>\n",
       "    <tr>\n",
       "      <th>0</th>\n",
       "      <td>2011-10-07</td>\n",
       "      <td>18:45:00</td>\n",
       "      <td>Buscar</td>\n",
       "      <td>0.0</td>\n",
       "      <td>0.0</td>\n",
       "      <td>32.0</td>\n",
       "      <td>0 days 00:30:00.000000000</td>\n",
       "      <td>Friday</td>\n",
       "      <td>Start</td>\n",
       "      <td>False</td>\n",
       "      <td>False</td>\n",
       "      <td>26.0 - 34.0 R$</td>\n",
       "      <td>30</td>\n",
       "      <td>21.25 - 32.5 minutes</td>\n",
       "    </tr>\n",
       "    <tr>\n",
       "      <th>1</th>\n",
       "      <td>2011-10-07</td>\n",
       "      <td>18:47:00</td>\n",
       "      <td>Buscar</td>\n",
       "      <td>0.0</td>\n",
       "      <td>0.0</td>\n",
       "      <td>30.0</td>\n",
       "      <td>0 days 00:43:00.000000000</td>\n",
       "      <td>Friday</td>\n",
       "      <td>Start</td>\n",
       "      <td>False</td>\n",
       "      <td>False</td>\n",
       "      <td>26.0 - 34.0 R$</td>\n",
       "      <td>43</td>\n",
       "      <td>32.5 - 43.75 minutes</td>\n",
       "    </tr>\n",
       "    <tr>\n",
       "      <th>2</th>\n",
       "      <td>2011-10-07</td>\n",
       "      <td>18:49:00</td>\n",
       "      <td>Buscar</td>\n",
       "      <td>0.0</td>\n",
       "      <td>0.0</td>\n",
       "      <td>27.0</td>\n",
       "      <td>0 days 00:42:00.000000000</td>\n",
       "      <td>Friday</td>\n",
       "      <td>Start</td>\n",
       "      <td>False</td>\n",
       "      <td>False</td>\n",
       "      <td>26.0 - 34.0 R$</td>\n",
       "      <td>42</td>\n",
       "      <td>32.5 - 43.75 minutes</td>\n",
       "    </tr>\n",
       "    <tr>\n",
       "      <th>3</th>\n",
       "      <td>2011-10-07</td>\n",
       "      <td>18:50:00</td>\n",
       "      <td>Buscar</td>\n",
       "      <td>0.0</td>\n",
       "      <td>0.0</td>\n",
       "      <td>30.0</td>\n",
       "      <td>0 days 00:40:00.000000000</td>\n",
       "      <td>Friday</td>\n",
       "      <td>Start</td>\n",
       "      <td>False</td>\n",
       "      <td>False</td>\n",
       "      <td>26.0 - 34.0 R$</td>\n",
       "      <td>40</td>\n",
       "      <td>32.5 - 43.75 minutes</td>\n",
       "    </tr>\n",
       "    <tr>\n",
       "      <th>4</th>\n",
       "      <td>2011-10-07</td>\n",
       "      <td>18:52:00</td>\n",
       "      <td>Buscar</td>\n",
       "      <td>0.0</td>\n",
       "      <td>0.0</td>\n",
       "      <td>30.0</td>\n",
       "      <td>0 days 00:23:00.000000000</td>\n",
       "      <td>Friday</td>\n",
       "      <td>Start</td>\n",
       "      <td>False</td>\n",
       "      <td>False</td>\n",
       "      <td>26.0 - 34.0 R$</td>\n",
       "      <td>23</td>\n",
       "      <td>21.25 - 32.5 minutes</td>\n",
       "    </tr>\n",
       "    <tr>\n",
       "      <th>...</th>\n",
       "      <td>...</td>\n",
       "      <td>...</td>\n",
       "      <td>...</td>\n",
       "      <td>...</td>\n",
       "      <td>...</td>\n",
       "      <td>...</td>\n",
       "      <td>...</td>\n",
       "      <td>...</td>\n",
       "      <td>...</td>\n",
       "      <td>...</td>\n",
       "      <td>...</td>\n",
       "      <td>...</td>\n",
       "      <td>...</td>\n",
       "      <td>...</td>\n",
       "    </tr>\n",
       "    <tr>\n",
       "      <th>2239</th>\n",
       "      <td>2012-02-24</td>\n",
       "      <td>20:15:00</td>\n",
       "      <td>Entrega</td>\n",
       "      <td>0.0</td>\n",
       "      <td>0.0</td>\n",
       "      <td>27.0</td>\n",
       "      <td>0 days 00:43:00.000000000</td>\n",
       "      <td>Friday</td>\n",
       "      <td>Maximum</td>\n",
       "      <td>False</td>\n",
       "      <td>False</td>\n",
       "      <td>26.0 - 34.0 R$</td>\n",
       "      <td>43</td>\n",
       "      <td>32.5 - 43.75 minutes</td>\n",
       "    </tr>\n",
       "    <tr>\n",
       "      <th>2240</th>\n",
       "      <td>2012-02-24</td>\n",
       "      <td>20:20:00</td>\n",
       "      <td>Entrega</td>\n",
       "      <td>0.0</td>\n",
       "      <td>0.0</td>\n",
       "      <td>30.0</td>\n",
       "      <td>0 days 00:54:00.000000000</td>\n",
       "      <td>Friday</td>\n",
       "      <td>Maximum</td>\n",
       "      <td>False</td>\n",
       "      <td>False</td>\n",
       "      <td>26.0 - 34.0 R$</td>\n",
       "      <td>54</td>\n",
       "      <td>43.75 - 55.0 minutes</td>\n",
       "    </tr>\n",
       "    <tr>\n",
       "      <th>2241</th>\n",
       "      <td>2012-02-24</td>\n",
       "      <td>20:47:00</td>\n",
       "      <td>Entrega</td>\n",
       "      <td>0.0</td>\n",
       "      <td>0.0</td>\n",
       "      <td>34.5</td>\n",
       "      <td>0 days 00:34:00.000000000</td>\n",
       "      <td>Friday</td>\n",
       "      <td>Maximum</td>\n",
       "      <td>False</td>\n",
       "      <td>False</td>\n",
       "      <td>34.0 - 42.0 R$</td>\n",
       "      <td>34</td>\n",
       "      <td>32.5 - 43.75 minutes</td>\n",
       "    </tr>\n",
       "    <tr>\n",
       "      <th>2242</th>\n",
       "      <td>2012-02-24</td>\n",
       "      <td>21:25:00</td>\n",
       "      <td>Buscar</td>\n",
       "      <td>0.0</td>\n",
       "      <td>0.0</td>\n",
       "      <td>31.0</td>\n",
       "      <td>0 days 00:24:00.000000000</td>\n",
       "      <td>Friday</td>\n",
       "      <td>Maximum</td>\n",
       "      <td>False</td>\n",
       "      <td>False</td>\n",
       "      <td>26.0 - 34.0 R$</td>\n",
       "      <td>24</td>\n",
       "      <td>21.25 - 32.5 minutes</td>\n",
       "    </tr>\n",
       "    <tr>\n",
       "      <th>2243</th>\n",
       "      <td>2012-02-24</td>\n",
       "      <td>22:08:00</td>\n",
       "      <td>Entrega</td>\n",
       "      <td>0.0</td>\n",
       "      <td>0.0</td>\n",
       "      <td>27.0</td>\n",
       "      <td>0 days 00:27:00.000000000</td>\n",
       "      <td>Friday</td>\n",
       "      <td>End</td>\n",
       "      <td>False</td>\n",
       "      <td>False</td>\n",
       "      <td>26.0 - 34.0 R$</td>\n",
       "      <td>27</td>\n",
       "      <td>21.25 - 32.5 minutes</td>\n",
       "    </tr>\n",
       "  </tbody>\n",
       "</table>\n",
       "<p>2244 rows × 14 columns</p>\n",
       "</div>"
      ],
      "text/plain": [
       "     data_pedido hora_pedido tipo_entrega  valor_borda  valor_refrigerante  \\\n",
       "0     2011-10-07    18:45:00       Buscar          0.0                 0.0   \n",
       "1     2011-10-07    18:47:00       Buscar          0.0                 0.0   \n",
       "2     2011-10-07    18:49:00       Buscar          0.0                 0.0   \n",
       "3     2011-10-07    18:50:00       Buscar          0.0                 0.0   \n",
       "4     2011-10-07    18:52:00       Buscar          0.0                 0.0   \n",
       "...          ...         ...          ...          ...                 ...   \n",
       "2239  2012-02-24    20:15:00      Entrega          0.0                 0.0   \n",
       "2240  2012-02-24    20:20:00      Entrega          0.0                 0.0   \n",
       "2241  2012-02-24    20:47:00      Entrega          0.0                 0.0   \n",
       "2242  2012-02-24    21:25:00       Buscar          0.0                 0.0   \n",
       "2243  2012-02-24    22:08:00      Entrega          0.0                 0.0   \n",
       "\n",
       "      valor_total                      tempo dia_da_semana periodo_de_vendas  \\\n",
       "0            32.0  0 days 00:30:00.000000000        Friday             Start   \n",
       "1            30.0  0 days 00:43:00.000000000        Friday             Start   \n",
       "2            27.0  0 days 00:42:00.000000000        Friday             Start   \n",
       "3            30.0  0 days 00:40:00.000000000        Friday             Start   \n",
       "4            30.0  0 days 00:23:00.000000000        Friday             Start   \n",
       "...           ...                        ...           ...               ...   \n",
       "2239         27.0  0 days 00:43:00.000000000        Friday           Maximum   \n",
       "2240         30.0  0 days 00:54:00.000000000        Friday           Maximum   \n",
       "2241         34.5  0 days 00:34:00.000000000        Friday           Maximum   \n",
       "2242         31.0  0 days 00:24:00.000000000        Friday           Maximum   \n",
       "2243         27.0  0 days 00:27:00.000000000        Friday               End   \n",
       "\n",
       "      borda  refrigerante intervalo_valor  tempo2             intervalo  \n",
       "0     False         False  26.0 - 34.0 R$      30  21.25 - 32.5 minutes  \n",
       "1     False         False  26.0 - 34.0 R$      43  32.5 - 43.75 minutes  \n",
       "2     False         False  26.0 - 34.0 R$      42  32.5 - 43.75 minutes  \n",
       "3     False         False  26.0 - 34.0 R$      40  32.5 - 43.75 minutes  \n",
       "4     False         False  26.0 - 34.0 R$      23  21.25 - 32.5 minutes  \n",
       "...     ...           ...             ...     ...                   ...  \n",
       "2239  False         False  26.0 - 34.0 R$      43  32.5 - 43.75 minutes  \n",
       "2240  False         False  26.0 - 34.0 R$      54  43.75 - 55.0 minutes  \n",
       "2241  False         False  34.0 - 42.0 R$      34  32.5 - 43.75 minutes  \n",
       "2242  False         False  26.0 - 34.0 R$      24  21.25 - 32.5 minutes  \n",
       "2243  False         False  26.0 - 34.0 R$      27  21.25 - 32.5 minutes  \n",
       "\n",
       "[2244 rows x 14 columns]"
      ]
     },
     "execution_count": 1,
     "metadata": {},
     "output_type": "execute_result"
    }
   ],
   "source": [
    "import pandas as pd\n",
    "import matplotlib.pyplot as plt\n",
    "import numpy as np\n",
    "\n",
    "data = pd.read_csv('source/pre_processed1.csv')  \n",
    "data"
   ]
  },
  {
   "cell_type": "markdown",
   "metadata": {},
   "source": [
    "* __Weekday Orders__"
   ]
  },
  {
   "cell_type": "code",
   "execution_count": 25,
   "metadata": {},
   "outputs": [],
   "source": [
    "x = list(data['dia_da_semana'].value_counts().keys())\n",
    "y = list(data['dia_da_semana'].value_counts())"
   ]
  },
  {
   "cell_type": "code",
   "execution_count": 37,
   "metadata": {},
   "outputs": [
    {
     "data": {
      "image/png": "[encoded data removed]",
      "text/plain": [
       "<Figure size 432x288 with 1 Axes>"
      ]
     },
     "metadata": {
      "needs_background": "light"
     },
     "output_type": "display_data"
    }
   ],
   "source": [
    "plt.bar(x, y, color='orange',edgecolor='black')\n",
    "plt.xlabel('Day of the week', fontsize=16)\n",
    "plt.ylabel('Amount of orders', fontsize=16)\n",
    "plt.title('Barchart - Total orders by day of the week',fontsize=20)\n",
    "plt.show()"
   ]
  },
  {
   "cell_type": "markdown",
   "metadata": {},
   "source": [
    "* __sales period order__"
   ]
  },
  {
   "cell_type": "code",
   "execution_count": 39,
   "metadata": {},
   "outputs": [],
   "source": [
    "x1 = list(data['periodo_de_vendas'].value_counts().keys())\n",
    "y1 = list(data['periodo_de_vendas'].value_counts())"
   ]
  },
  {
   "cell_type": "code",
   "execution_count": 43,
   "metadata": {},
   "outputs": [
    {
     "data": {
      "image/png": "[encoded data removed]",
      "text/plain": [
       "<Figure size 432x288 with 1 Axes>"
      ]
     },
     "metadata": {
      "needs_background": "light"
     },
     "output_type": "display_data"
    }
   ],
   "source": [
    "plt.bar(x1, y1, color='purple',edgecolor='black')\n",
    "plt.xlabel('Sales period', fontsize=16)\n",
    "plt.ylabel('Amount of orders', fontsize=16)\n",
    "plt.title('Barchart - Total orders by sales period',fontsize=20)\n",
    "plt.show()"
   ]
  },
  {
   "cell_type": "markdown",
   "metadata": {},
   "source": [
    "* __delivery type order:__"
   ]
  },
  {
   "cell_type": "code",
   "execution_count": 2,
   "metadata": {},
   "outputs": [
    {
     "data": {
      "text/plain": [
       "(['Entrega', 'Buscar'], [1301, 943])"
      ]
     },
     "execution_count": 2,
     "metadata": {},
     "output_type": "execute_result"
    }
   ],
   "source": [
    "x2 = list(data['tipo_entrega'].value_counts().keys())\n",
    "y2= list(data['tipo_entrega'].value_counts())\n",
    "x2, y2"
   ]
  },
  {
   "cell_type": "code",
   "execution_count": 5,
   "metadata": {},
   "outputs": [
    {
     "data": {
      "image/png": "[encoded data removed]",
      "text/plain": [
       "<Figure size 432x288 with 1 Axes>"
      ]
     },
     "metadata": {
      "needs_background": "light"
     },
     "output_type": "display_data"
    }
   ],
   "source": [
    "plt.bar(x2, y2, color='green',edgecolor='black')\n",
    "plt.xlabel('Delivery Type', fontsize=16)\n",
    "plt.ylabel('Amount of orders', fontsize=16)\n",
    "plt.title('Barchart - Total orders by delivery type',fontsize=20)\n",
    "plt.show()"
   ]
  },
  {
   "cell_type": "markdown",
   "metadata": {},
   "source": [
    "* __optional items:__"
   ]
  },
  {
   "cell_type": "code",
   "execution_count": 11,
   "metadata": {},
   "outputs": [
    {
     "data": {
      "text/plain": [
       "([False, True], [1962, 282])"
      ]
     },
     "execution_count": 11,
     "metadata": {},
     "output_type": "execute_result"
    }
   ],
   "source": [
    "itemX1 = list(data['borda'].value_counts().keys())\n",
    "itemY1= list(data['borda'].value_counts())\n",
    "itemX1, itemY1"
   ]
  },
  {
   "cell_type": "code",
   "execution_count": 14,
   "metadata": {},
   "outputs": [
    {
     "data": {
      "text/plain": [
       "{False: 1962, True: 282}"
      ]
     },
     "execution_count": 14,
     "metadata": {},
     "output_type": "execute_result"
    }
   ],
   "source": [
    "item1 = dict(zip(itemX1, itemY1))\n",
    "item1"
   ]
  },
  {
   "cell_type": "code",
   "execution_count": 41,
   "metadata": {},
   "outputs": [
    {
     "data": {
      "image/png": "[encoded data removed]",
      "text/plain": [
       "<Figure size 432x288 with 1 Axes>"
      ]
     },
     "metadata": {
      "needs_background": "light"
     },
     "output_type": "display_data"
    }
   ],
   "source": [
    "plt.bar(range(len(item1)), list(item1.values()), color='red',edgecolor='black')\n",
    "plt.xticks(range(len(item1)), list(item1.keys()))\n",
    "plt.xlabel('Filled Edge', fontsize=16)\n",
    "plt.ylabel('Amount of orders', fontsize=16)\n",
    "plt.title('Barchart - Total orders by pizza edge',fontsize=20)\n",
    "plt.show()"
   ]
  },
  {
   "cell_type": "code",
   "execution_count": null,
   "metadata": {},
   "outputs": [],
   "source": []
  }
 ],
 "metadata": {
  "kernelspec": {
   "display_name": "Python 3",
   "language": "python",
   "name": "python3"
  },
  "language_info": {
   "codemirror_mode": {
    "name": "ipython",
    "version": 3
   },
   "file_extension": ".py",
   "mimetype": "text/x-python",
   "name": "python",
   "nbconvert_exporter": "python",
   "pygments_lexer": "ipython3",
   "version": "3.7.0"
  }
 },
 "nbformat": 4,
 "nbformat_minor": 4
}
