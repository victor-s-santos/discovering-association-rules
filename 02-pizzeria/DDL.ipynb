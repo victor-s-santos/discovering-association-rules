{
 "cells": [
  {
   "cell_type": "markdown",
   "metadata": {},
   "source": [
    "## In this notebook I am going to create the database structure to handle in another notebooks."
   ]
  },
  {
   "cell_type": "code",
   "execution_count": 13,
   "metadata": {},
   "outputs": [],
   "source": [
    "import sqlite3\n",
    "connection = sqlite3.connect('source/pizzaria.db')\n",
    "cursor = connection.cursor()"
   ]
  },
  {
   "cell_type": "markdown",
   "metadata": {},
   "source": [
    "* __Creating the Pizzaria Table__"
   ]
  },
  {
   "cell_type": "code",
   "execution_count": 15,
   "metadata": {},
   "outputs": [
    {
     "name": "stdout",
     "output_type": "stream",
     "text": [
      "The table has been created!\n"
     ]
    }
   ],
   "source": [
    "with open('source/pizzaria.sql') as pizzaria:\n",
    "    try:\n",
    "        cursor.execute(pizzaria.read())\n",
    "        connection.commit()\n",
    "        print(\"The table has been created!\")\n",
    "    except:\n",
    "        print('An exception occurred!')"
   ]
  },
  {
   "cell_type": "markdown",
   "metadata": {},
   "source": [
    "* __Population this database__"
   ]
  },
  {
   "cell_type": "code",
   "execution_count": 17,
   "metadata": {},
   "outputs": [
    {
     "name": "stdout",
     "output_type": "stream",
     "text": [
      "The values has been inserted!\n"
     ]
    }
   ],
   "source": [
    "with open('source/insert_values.sql') as values:\n",
    "    try:\n",
    "        cursor.execute(values.read())\n",
    "        connection.commit()\n",
    "        print(\"The values has been inserted!\")\n",
    "    except:\n",
    "        print('An exception occurred!')"
   ]
  }
 ],
 "metadata": {
  "kernelspec": {
   "display_name": "Python 3",
   "language": "python",
   "name": "python3"
  },
  "language_info": {
   "codemirror_mode": {
    "name": "ipython",
    "version": 3
   },
   "file_extension": ".py",
   "mimetype": "text/x-python",
   "name": "python",
   "nbconvert_exporter": "python",
   "pygments_lexer": "ipython3",
   "version": "3.7.0"
  }
 },
 "nbformat": 4,
 "nbformat_minor": 4
}
