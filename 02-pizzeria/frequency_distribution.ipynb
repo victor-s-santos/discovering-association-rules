{
 "cells": [
  {
   "cell_type": "markdown",
   "metadata": {},
   "source": [
    "## Frequency Distribution\n",
    ">As we have a large number of distinct values from some columns, we need to improve this value to reach better rules."
   ]
  },
  {
   "cell_type": "markdown",
   "metadata": {},
   "source": [
    "* __Valor_total__"
   ]
  },
  {
   "cell_type": "code",
   "execution_count": 17,
   "metadata": {},
   "outputs": [],
   "source": [
    "import pandas as pd\n",
    "import matplotlib.pyplot as plt\n",
    "from numpy import genfromtxt"
   ]
  },
  {
   "cell_type": "code",
   "execution_count": 3,
   "metadata": {},
   "outputs": [
    {
     "data": {
      "text/html": [
       "<div>\n",
       "<style scoped>\n",
       "    .dataframe tbody tr th:only-of-type {\n",
       "        vertical-align: middle;\n",
       "    }\n",
       "\n",
       "    .dataframe tbody tr th {\n",
       "        vertical-align: top;\n",
       "    }\n",
       "\n",
       "    .dataframe thead th {\n",
       "        text-align: right;\n",
       "    }\n",
       "</style>\n",
       "<table border=\"1\" class=\"dataframe\">\n",
       "  <thead>\n",
       "    <tr style=\"text-align: right;\">\n",
       "      <th></th>\n",
       "      <th>data_pedido</th>\n",
       "      <th>hora_pedido</th>\n",
       "      <th>tipo_entrega</th>\n",
       "      <th>valor_borda</th>\n",
       "      <th>valor_refrigerante</th>\n",
       "      <th>valor_total</th>\n",
       "      <th>tempo</th>\n",
       "      <th>dia_da_semana</th>\n",
       "      <th>periodo_de_vendas</th>\n",
       "      <th>borda</th>\n",
       "      <th>refrigerante</th>\n",
       "    </tr>\n",
       "  </thead>\n",
       "  <tbody>\n",
       "    <tr>\n",
       "      <th>0</th>\n",
       "      <td>2011-10-07</td>\n",
       "      <td>0 days 18:45:00.000000000</td>\n",
       "      <td>Buscar</td>\n",
       "      <td>0.0</td>\n",
       "      <td>0.0</td>\n",
       "      <td>32.0</td>\n",
       "      <td>0 days 00:30:00.000000000</td>\n",
       "      <td>Friday</td>\n",
       "      <td>End</td>\n",
       "      <td>False</td>\n",
       "      <td>False</td>\n",
       "    </tr>\n",
       "    <tr>\n",
       "      <th>1</th>\n",
       "      <td>2011-10-07</td>\n",
       "      <td>0 days 18:47:00.000000000</td>\n",
       "      <td>Buscar</td>\n",
       "      <td>0.0</td>\n",
       "      <td>0.0</td>\n",
       "      <td>30.0</td>\n",
       "      <td>0 days 00:43:00.000000000</td>\n",
       "      <td>Friday</td>\n",
       "      <td>End</td>\n",
       "      <td>False</td>\n",
       "      <td>False</td>\n",
       "    </tr>\n",
       "    <tr>\n",
       "      <th>2</th>\n",
       "      <td>2011-10-07</td>\n",
       "      <td>0 days 18:49:00.000000000</td>\n",
       "      <td>Buscar</td>\n",
       "      <td>0.0</td>\n",
       "      <td>0.0</td>\n",
       "      <td>27.0</td>\n",
       "      <td>0 days 00:42:00.000000000</td>\n",
       "      <td>Friday</td>\n",
       "      <td>End</td>\n",
       "      <td>False</td>\n",
       "      <td>False</td>\n",
       "    </tr>\n",
       "    <tr>\n",
       "      <th>3</th>\n",
       "      <td>2011-10-07</td>\n",
       "      <td>0 days 18:50:00.000000000</td>\n",
       "      <td>Buscar</td>\n",
       "      <td>0.0</td>\n",
       "      <td>0.0</td>\n",
       "      <td>30.0</td>\n",
       "      <td>0 days 00:40:00.000000000</td>\n",
       "      <td>Friday</td>\n",
       "      <td>End</td>\n",
       "      <td>False</td>\n",
       "      <td>False</td>\n",
       "    </tr>\n",
       "    <tr>\n",
       "      <th>4</th>\n",
       "      <td>2011-10-07</td>\n",
       "      <td>0 days 18:52:00.000000000</td>\n",
       "      <td>Buscar</td>\n",
       "      <td>0.0</td>\n",
       "      <td>0.0</td>\n",
       "      <td>30.0</td>\n",
       "      <td>0 days 00:23:00.000000000</td>\n",
       "      <td>Friday</td>\n",
       "      <td>End</td>\n",
       "      <td>False</td>\n",
       "      <td>False</td>\n",
       "    </tr>\n",
       "    <tr>\n",
       "      <th>...</th>\n",
       "      <td>...</td>\n",
       "      <td>...</td>\n",
       "      <td>...</td>\n",
       "      <td>...</td>\n",
       "      <td>...</td>\n",
       "      <td>...</td>\n",
       "      <td>...</td>\n",
       "      <td>...</td>\n",
       "      <td>...</td>\n",
       "      <td>...</td>\n",
       "      <td>...</td>\n",
       "    </tr>\n",
       "    <tr>\n",
       "      <th>2239</th>\n",
       "      <td>2012-02-24</td>\n",
       "      <td>0 days 20:15:00.000000000</td>\n",
       "      <td>Entrega</td>\n",
       "      <td>0.0</td>\n",
       "      <td>0.0</td>\n",
       "      <td>27.0</td>\n",
       "      <td>0 days 00:43:00.000000000</td>\n",
       "      <td>Friday</td>\n",
       "      <td>End</td>\n",
       "      <td>False</td>\n",
       "      <td>False</td>\n",
       "    </tr>\n",
       "    <tr>\n",
       "      <th>2240</th>\n",
       "      <td>2012-02-24</td>\n",
       "      <td>0 days 20:20:00.000000000</td>\n",
       "      <td>Entrega</td>\n",
       "      <td>0.0</td>\n",
       "      <td>0.0</td>\n",
       "      <td>30.0</td>\n",
       "      <td>0 days 00:54:00.000000000</td>\n",
       "      <td>Friday</td>\n",
       "      <td>End</td>\n",
       "      <td>False</td>\n",
       "      <td>False</td>\n",
       "    </tr>\n",
       "    <tr>\n",
       "      <th>2241</th>\n",
       "      <td>2012-02-24</td>\n",
       "      <td>0 days 20:47:00.000000000</td>\n",
       "      <td>Entrega</td>\n",
       "      <td>0.0</td>\n",
       "      <td>0.0</td>\n",
       "      <td>34.5</td>\n",
       "      <td>0 days 00:34:00.000000000</td>\n",
       "      <td>Friday</td>\n",
       "      <td>End</td>\n",
       "      <td>False</td>\n",
       "      <td>False</td>\n",
       "    </tr>\n",
       "    <tr>\n",
       "      <th>2242</th>\n",
       "      <td>2012-02-24</td>\n",
       "      <td>0 days 21:25:00.000000000</td>\n",
       "      <td>Buscar</td>\n",
       "      <td>0.0</td>\n",
       "      <td>0.0</td>\n",
       "      <td>31.0</td>\n",
       "      <td>0 days 00:24:00.000000000</td>\n",
       "      <td>Friday</td>\n",
       "      <td>End</td>\n",
       "      <td>False</td>\n",
       "      <td>False</td>\n",
       "    </tr>\n",
       "    <tr>\n",
       "      <th>2243</th>\n",
       "      <td>2012-02-24</td>\n",
       "      <td>0 days 22:08:00.000000000</td>\n",
       "      <td>Entrega</td>\n",
       "      <td>0.0</td>\n",
       "      <td>0.0</td>\n",
       "      <td>27.0</td>\n",
       "      <td>0 days 00:27:00.000000000</td>\n",
       "      <td>Friday</td>\n",
       "      <td>End</td>\n",
       "      <td>False</td>\n",
       "      <td>False</td>\n",
       "    </tr>\n",
       "  </tbody>\n",
       "</table>\n",
       "<p>2244 rows × 11 columns</p>\n",
       "</div>"
      ],
      "text/plain": [
       "     data_pedido                hora_pedido tipo_entrega  valor_borda  \\\n",
       "0     2011-10-07  0 days 18:45:00.000000000       Buscar          0.0   \n",
       "1     2011-10-07  0 days 18:47:00.000000000       Buscar          0.0   \n",
       "2     2011-10-07  0 days 18:49:00.000000000       Buscar          0.0   \n",
       "3     2011-10-07  0 days 18:50:00.000000000       Buscar          0.0   \n",
       "4     2011-10-07  0 days 18:52:00.000000000       Buscar          0.0   \n",
       "...          ...                        ...          ...          ...   \n",
       "2239  2012-02-24  0 days 20:15:00.000000000      Entrega          0.0   \n",
       "2240  2012-02-24  0 days 20:20:00.000000000      Entrega          0.0   \n",
       "2241  2012-02-24  0 days 20:47:00.000000000      Entrega          0.0   \n",
       "2242  2012-02-24  0 days 21:25:00.000000000       Buscar          0.0   \n",
       "2243  2012-02-24  0 days 22:08:00.000000000      Entrega          0.0   \n",
       "\n",
       "      valor_refrigerante  valor_total                      tempo  \\\n",
       "0                    0.0         32.0  0 days 00:30:00.000000000   \n",
       "1                    0.0         30.0  0 days 00:43:00.000000000   \n",
       "2                    0.0         27.0  0 days 00:42:00.000000000   \n",
       "3                    0.0         30.0  0 days 00:40:00.000000000   \n",
       "4                    0.0         30.0  0 days 00:23:00.000000000   \n",
       "...                  ...          ...                        ...   \n",
       "2239                 0.0         27.0  0 days 00:43:00.000000000   \n",
       "2240                 0.0         30.0  0 days 00:54:00.000000000   \n",
       "2241                 0.0         34.5  0 days 00:34:00.000000000   \n",
       "2242                 0.0         31.0  0 days 00:24:00.000000000   \n",
       "2243                 0.0         27.0  0 days 00:27:00.000000000   \n",
       "\n",
       "     dia_da_semana periodo_de_vendas  borda  refrigerante  \n",
       "0           Friday               End  False         False  \n",
       "1           Friday               End  False         False  \n",
       "2           Friday               End  False         False  \n",
       "3           Friday               End  False         False  \n",
       "4           Friday               End  False         False  \n",
       "...            ...               ...    ...           ...  \n",
       "2239        Friday               End  False         False  \n",
       "2240        Friday               End  False         False  \n",
       "2241        Friday               End  False         False  \n",
       "2242        Friday               End  False         False  \n",
       "2243        Friday               End  False         False  \n",
       "\n",
       "[2244 rows x 11 columns]"
      ]
     },
     "execution_count": 3,
     "metadata": {},
     "output_type": "execute_result"
    }
   ],
   "source": [
    "#reading the csv\n",
    "valor_total = pd.read_csv('source/pre_processed.csv')\n",
    "valor_total"
   ]
  },
  {
   "cell_type": "code",
   "execution_count": 6,
   "metadata": {},
   "outputs": [
    {
     "data": {
      "image/png": "[encoded data removed]",
      "text/plain": [
       "<Figure size 432x288 with 1 Axes>"
      ]
     },
     "metadata": {
      "needs_background": "light"
     },
     "output_type": "display_data"
    }
   ],
   "source": [
    "histogram = plt.hist(valor_total['valor_total'], bins='sturges')"
   ]
  },
  {
   "cell_type": "code",
   "execution_count": 8,
   "metadata": {},
   "outputs": [
    {
     "name": "stdout",
     "output_type": "stream",
     "text": [
      "[10.         13.07692308 16.15384615 19.23076923 22.30769231 25.38461538\n",
      " 28.46153846 31.53846154 34.61538462 37.69230769 40.76923077 43.84615385\n",
      " 46.92307692 50.        ]\n"
     ]
    }
   ],
   "source": [
    "#Analysing the intervals\n",
    "print(histogram[1])"
   ]
  },
  {
   "cell_type": "code",
   "execution_count": 10,
   "metadata": {},
   "outputs": [
    {
     "name": "stdout",
     "output_type": "stream",
     "text": [
      "10.0\n",
      "13.076923076923077\n",
      "16.153846153846153\n",
      "19.230769230769234\n",
      "22.307692307692307\n",
      "25.384615384615387\n",
      "28.461538461538463\n",
      "31.53846153846154\n",
      "34.61538461538461\n",
      "37.69230769230769\n",
      "40.769230769230774\n",
      "43.84615384615385\n",
      "46.92307692307693\n",
      "50.0\n"
     ]
    }
   ],
   "source": [
    "#Better visualization\n",
    "for i in range(len(histogram[1])):\n",
    "    print(histogram[1][i])"
   ]
  },
  {
   "cell_type": "code",
   "execution_count": 12,
   "metadata": {},
   "outputs": [
    {
     "name": "stdout",
     "output_type": "stream",
     "text": [
      "3.0769230769230766\n",
      "3.0769230769230766\n",
      "3.07692307692308\n",
      "3.076923076923073\n",
      "3.07692307692308\n",
      "3.0769230769230766\n",
      "3.0769230769230766\n",
      "3.076923076923073\n",
      "3.07692307692308\n",
      "3.07692307692308\n",
      "3.076923076923073\n",
      "3.07692307692308\n",
      "3.076923076923073\n"
     ]
    }
   ],
   "source": [
    "#looking for the diference between a value(class) and the next one\n",
    "for i in range(1, len(histogram[1])):\n",
    "    print(histogram[1][i] - histogram[1][i-1])"
   ]
  },
  {
   "cell_type": "markdown",
   "metadata": {},
   "source": [
    "* __The difference between the previous value and next one is 3.0769230769230.__ \n",
    "* __The histogram has been created for us with interval class equal to 3.0769230769230.__"
   ]
  },
  {
   "cell_type": "markdown",
   "metadata": {},
   "source": [
    "# Another Column"
   ]
  },
  {
   "cell_type": "markdown",
   "metadata": {},
   "source": [
    "* __tempos__"
   ]
  },
  {
   "cell_type": "code",
   "execution_count": 16,
   "metadata": {},
   "outputs": [
    {
     "data": {
      "text/html": [
       "<div>\n",
       "<style scoped>\n",
       "    .dataframe tbody tr th:only-of-type {\n",
       "        vertical-align: middle;\n",
       "    }\n",
       "\n",
       "    .dataframe tbody tr th {\n",
       "        vertical-align: top;\n",
       "    }\n",
       "\n",
       "    .dataframe thead th {\n",
       "        text-align: right;\n",
       "    }\n",
       "</style>\n",
       "<table border=\"1\" class=\"dataframe\">\n",
       "  <thead>\n",
       "    <tr style=\"text-align: right;\">\n",
       "      <th></th>\n",
       "      <th>tempo</th>\n",
       "      <th>tempo2</th>\n",
       "    </tr>\n",
       "  </thead>\n",
       "  <tbody>\n",
       "    <tr>\n",
       "      <th>0</th>\n",
       "      <td>0 days 00:30:00.000000000</td>\n",
       "      <td>30</td>\n",
       "    </tr>\n",
       "    <tr>\n",
       "      <th>1</th>\n",
       "      <td>0 days 00:43:00.000000000</td>\n",
       "      <td>43</td>\n",
       "    </tr>\n",
       "    <tr>\n",
       "      <th>2</th>\n",
       "      <td>0 days 00:42:00.000000000</td>\n",
       "      <td>42</td>\n",
       "    </tr>\n",
       "    <tr>\n",
       "      <th>3</th>\n",
       "      <td>0 days 00:40:00.000000000</td>\n",
       "      <td>40</td>\n",
       "    </tr>\n",
       "    <tr>\n",
       "      <th>4</th>\n",
       "      <td>0 days 00:23:00.000000000</td>\n",
       "      <td>23</td>\n",
       "    </tr>\n",
       "    <tr>\n",
       "      <th>...</th>\n",
       "      <td>...</td>\n",
       "      <td>...</td>\n",
       "    </tr>\n",
       "    <tr>\n",
       "      <th>2239</th>\n",
       "      <td>0 days 00:43:00.000000000</td>\n",
       "      <td>43</td>\n",
       "    </tr>\n",
       "    <tr>\n",
       "      <th>2240</th>\n",
       "      <td>0 days 00:54:00.000000000</td>\n",
       "      <td>54</td>\n",
       "    </tr>\n",
       "    <tr>\n",
       "      <th>2241</th>\n",
       "      <td>0 days 00:34:00.000000000</td>\n",
       "      <td>34</td>\n",
       "    </tr>\n",
       "    <tr>\n",
       "      <th>2242</th>\n",
       "      <td>0 days 00:24:00.000000000</td>\n",
       "      <td>24</td>\n",
       "    </tr>\n",
       "    <tr>\n",
       "      <th>2243</th>\n",
       "      <td>0 days 00:27:00.000000000</td>\n",
       "      <td>27</td>\n",
       "    </tr>\n",
       "  </tbody>\n",
       "</table>\n",
       "<p>2244 rows × 2 columns</p>\n",
       "</div>"
      ],
      "text/plain": [
       "                          tempo  tempo2\n",
       "0     0 days 00:30:00.000000000      30\n",
       "1     0 days 00:43:00.000000000      43\n",
       "2     0 days 00:42:00.000000000      42\n",
       "3     0 days 00:40:00.000000000      40\n",
       "4     0 days 00:23:00.000000000      23\n",
       "...                         ...     ...\n",
       "2239  0 days 00:43:00.000000000      43\n",
       "2240  0 days 00:54:00.000000000      54\n",
       "2241  0 days 00:34:00.000000000      34\n",
       "2242  0 days 00:24:00.000000000      24\n",
       "2243  0 days 00:27:00.000000000      27\n",
       "\n",
       "[2244 rows x 2 columns]"
      ]
     },
     "execution_count": 16,
     "metadata": {},
     "output_type": "execute_result"
    }
   ],
   "source": [
    "#reading the csv\n",
    "tempos = pd.read_csv('source/tempos.csv')\n",
    "tempos"
   ]
  },
  {
   "cell_type": "code",
   "execution_count": 21,
   "metadata": {},
   "outputs": [
    {
     "data": {
      "image/png": "[encoded data removed]",
      "text/plain": [
       "<Figure size 432x288 with 1 Axes>"
      ]
     },
     "metadata": {
      "needs_background": "light"
     },
     "output_type": "display_data"
    }
   ],
   "source": [
    "#Returning the histogram, with a 4 intervals\n",
    "histogram_tempo = plt.hist(tempos['tempo2'], bins=4)"
   ]
  },
  {
   "cell_type": "code",
   "execution_count": 34,
   "metadata": {},
   "outputs": [
    {
     "name": "stdout",
     "output_type": "stream",
     "text": [
      "10.0\n",
      "21.25\n",
      "32.5\n",
      "43.75\n",
      "55.0\n"
     ]
    }
   ],
   "source": [
    "#x values\n",
    "for i in range(len(histogram_tempo[1])):\n",
    "    print(histogram_tempo[1][i])"
   ]
  },
  {
   "cell_type": "markdown",
   "metadata": {},
   "source": [
    "* This way, I can define the class to use in df: \n",
    "\n",
    ">10.0 - 21.25\n",
    "\n",
    ">21.25 - 32.5 \n",
    "\n",
    ">32.5 - 43.75 \n",
    "\n",
    ">43.75 - 55.0 "
   ]
  },
  {
   "cell_type": "code",
   "execution_count": 36,
   "metadata": {},
   "outputs": [
    {
     "name": "stdout",
     "output_type": "stream",
     "text": [
      "75.0\n",
      "412.0\n",
      "854.0\n",
      "903.0\n"
     ]
    }
   ],
   "source": [
    "#y values\n",
    "for j in range(len(histogram_tempo[0])):\n",
    "    print(histogram_tempo[0][j])"
   ]
  }
 ],
 "metadata": {
  "kernelspec": {
   "display_name": "Python 3",
   "language": "python",
   "name": "python3"
  },
  "language_info": {
   "codemirror_mode": {
    "name": "ipython",
    "version": 3
   },
   "file_extension": ".py",
   "mimetype": "text/x-python",
   "name": "python",
   "nbconvert_exporter": "python",
   "pygments_lexer": "ipython3",
   "version": "3.7.0"
  }
 },
 "nbformat": 4,
 "nbformat_minor": 4
}
