{
 "cells": [
  {
   "cell_type": "markdown",
   "metadata": {},
   "source": [
    "## Frequency Distribution\n",
    ">As we have a large number of distinct values from some columns, we need to improve this value to reach better rules."
   ]
  },
  {
   "cell_type": "markdown",
   "metadata": {},
   "source": [
    "* __Valor_total__"
   ]
  },
  {
   "cell_type": "code",
   "execution_count": 1,
   "metadata": {},
   "outputs": [
    {
     "name": "stderr",
     "output_type": "stream",
     "text": [
      "/home/visus/.pyenv/versions/3.7.0/lib/python3.7/site-packages/pandas/compat/__init__.py:117: UserWarning: Could not import the lzma module. Your installed Python is incomplete. Attempting to use lzma compression will result in a RuntimeError.\n",
      "  warnings.warn(msg)\n"
     ]
    }
   ],
   "source": [
    "import pandas as pd\n",
    "import matplotlib.pyplot as plt\n",
    "from numpy import genfromtxt"
   ]
  },
  {
   "cell_type": "code",
   "execution_count": 2,
   "metadata": {},
   "outputs": [
    {
     "data": {
      "text/html": [
       "<div>\n",
       "<style scoped>\n",
       "    .dataframe tbody tr th:only-of-type {\n",
       "        vertical-align: middle;\n",
       "    }\n",
       "\n",
       "    .dataframe tbody tr th {\n",
       "        vertical-align: top;\n",
       "    }\n",
       "\n",
       "    .dataframe thead th {\n",
       "        text-align: right;\n",
       "    }\n",
       "</style>\n",
       "<table border=\"1\" class=\"dataframe\">\n",
       "  <thead>\n",
       "    <tr style=\"text-align: right;\">\n",
       "      <th></th>\n",
       "      <th>data_pedido</th>\n",
       "      <th>hora_pedido</th>\n",
       "      <th>tipo_entrega</th>\n",
       "      <th>valor_borda</th>\n",
       "      <th>valor_refrigerante</th>\n",
       "      <th>valor_total</th>\n",
       "      <th>tempo</th>\n",
       "      <th>dia_da_semana</th>\n",
       "      <th>periodo_de_vendas</th>\n",
       "      <th>borda</th>\n",
       "      <th>refrigerante</th>\n",
       "    </tr>\n",
       "  </thead>\n",
       "  <tbody>\n",
       "    <tr>\n",
       "      <th>0</th>\n",
       "      <td>2011-10-07</td>\n",
       "      <td>18:45:00</td>\n",
       "      <td>Buscar</td>\n",
       "      <td>0.0</td>\n",
       "      <td>0.0</td>\n",
       "      <td>32.0</td>\n",
       "      <td>0 days 00:30:00.000000000</td>\n",
       "      <td>Friday</td>\n",
       "      <td>Start</td>\n",
       "      <td>False</td>\n",
       "      <td>False</td>\n",
       "    </tr>\n",
       "    <tr>\n",
       "      <th>1</th>\n",
       "      <td>2011-10-07</td>\n",
       "      <td>18:47:00</td>\n",
       "      <td>Buscar</td>\n",
       "      <td>0.0</td>\n",
       "      <td>0.0</td>\n",
       "      <td>30.0</td>\n",
       "      <td>0 days 00:43:00.000000000</td>\n",
       "      <td>Friday</td>\n",
       "      <td>Start</td>\n",
       "      <td>False</td>\n",
       "      <td>False</td>\n",
       "    </tr>\n",
       "    <tr>\n",
       "      <th>2</th>\n",
       "      <td>2011-10-07</td>\n",
       "      <td>18:49:00</td>\n",
       "      <td>Buscar</td>\n",
       "      <td>0.0</td>\n",
       "      <td>0.0</td>\n",
       "      <td>27.0</td>\n",
       "      <td>0 days 00:42:00.000000000</td>\n",
       "      <td>Friday</td>\n",
       "      <td>Start</td>\n",
       "      <td>False</td>\n",
       "      <td>False</td>\n",
       "    </tr>\n",
       "    <tr>\n",
       "      <th>3</th>\n",
       "      <td>2011-10-07</td>\n",
       "      <td>18:50:00</td>\n",
       "      <td>Buscar</td>\n",
       "      <td>0.0</td>\n",
       "      <td>0.0</td>\n",
       "      <td>30.0</td>\n",
       "      <td>0 days 00:40:00.000000000</td>\n",
       "      <td>Friday</td>\n",
       "      <td>Start</td>\n",
       "      <td>False</td>\n",
       "      <td>False</td>\n",
       "    </tr>\n",
       "    <tr>\n",
       "      <th>4</th>\n",
       "      <td>2011-10-07</td>\n",
       "      <td>18:52:00</td>\n",
       "      <td>Buscar</td>\n",
       "      <td>0.0</td>\n",
       "      <td>0.0</td>\n",
       "      <td>30.0</td>\n",
       "      <td>0 days 00:23:00.000000000</td>\n",
       "      <td>Friday</td>\n",
       "      <td>Start</td>\n",
       "      <td>False</td>\n",
       "      <td>False</td>\n",
       "    </tr>\n",
       "    <tr>\n",
       "      <th>...</th>\n",
       "      <td>...</td>\n",
       "      <td>...</td>\n",
       "      <td>...</td>\n",
       "      <td>...</td>\n",
       "      <td>...</td>\n",
       "      <td>...</td>\n",
       "      <td>...</td>\n",
       "      <td>...</td>\n",
       "      <td>...</td>\n",
       "      <td>...</td>\n",
       "      <td>...</td>\n",
       "    </tr>\n",
       "    <tr>\n",
       "      <th>2239</th>\n",
       "      <td>2012-02-24</td>\n",
       "      <td>20:15:00</td>\n",
       "      <td>Entrega</td>\n",
       "      <td>0.0</td>\n",
       "      <td>0.0</td>\n",
       "      <td>27.0</td>\n",
       "      <td>0 days 00:43:00.000000000</td>\n",
       "      <td>Friday</td>\n",
       "      <td>Maximum</td>\n",
       "      <td>False</td>\n",
       "      <td>False</td>\n",
       "    </tr>\n",
       "    <tr>\n",
       "      <th>2240</th>\n",
       "      <td>2012-02-24</td>\n",
       "      <td>20:20:00</td>\n",
       "      <td>Entrega</td>\n",
       "      <td>0.0</td>\n",
       "      <td>0.0</td>\n",
       "      <td>30.0</td>\n",
       "      <td>0 days 00:54:00.000000000</td>\n",
       "      <td>Friday</td>\n",
       "      <td>Maximum</td>\n",
       "      <td>False</td>\n",
       "      <td>False</td>\n",
       "    </tr>\n",
       "    <tr>\n",
       "      <th>2241</th>\n",
       "      <td>2012-02-24</td>\n",
       "      <td>20:47:00</td>\n",
       "      <td>Entrega</td>\n",
       "      <td>0.0</td>\n",
       "      <td>0.0</td>\n",
       "      <td>34.5</td>\n",
       "      <td>0 days 00:34:00.000000000</td>\n",
       "      <td>Friday</td>\n",
       "      <td>Maximum</td>\n",
       "      <td>False</td>\n",
       "      <td>False</td>\n",
       "    </tr>\n",
       "    <tr>\n",
       "      <th>2242</th>\n",
       "      <td>2012-02-24</td>\n",
       "      <td>21:25:00</td>\n",
       "      <td>Buscar</td>\n",
       "      <td>0.0</td>\n",
       "      <td>0.0</td>\n",
       "      <td>31.0</td>\n",
       "      <td>0 days 00:24:00.000000000</td>\n",
       "      <td>Friday</td>\n",
       "      <td>Maximum</td>\n",
       "      <td>False</td>\n",
       "      <td>False</td>\n",
       "    </tr>\n",
       "    <tr>\n",
       "      <th>2243</th>\n",
       "      <td>2012-02-24</td>\n",
       "      <td>22:08:00</td>\n",
       "      <td>Entrega</td>\n",
       "      <td>0.0</td>\n",
       "      <td>0.0</td>\n",
       "      <td>27.0</td>\n",
       "      <td>0 days 00:27:00.000000000</td>\n",
       "      <td>Friday</td>\n",
       "      <td>End</td>\n",
       "      <td>False</td>\n",
       "      <td>False</td>\n",
       "    </tr>\n",
       "  </tbody>\n",
       "</table>\n",
       "<p>2244 rows × 11 columns</p>\n",
       "</div>"
      ],
      "text/plain": [
       "     data_pedido hora_pedido tipo_entrega  valor_borda  valor_refrigerante  \\\n",
       "0     2011-10-07    18:45:00       Buscar          0.0                 0.0   \n",
       "1     2011-10-07    18:47:00       Buscar          0.0                 0.0   \n",
       "2     2011-10-07    18:49:00       Buscar          0.0                 0.0   \n",
       "3     2011-10-07    18:50:00       Buscar          0.0                 0.0   \n",
       "4     2011-10-07    18:52:00       Buscar          0.0                 0.0   \n",
       "...          ...         ...          ...          ...                 ...   \n",
       "2239  2012-02-24    20:15:00      Entrega          0.0                 0.0   \n",
       "2240  2012-02-24    20:20:00      Entrega          0.0                 0.0   \n",
       "2241  2012-02-24    20:47:00      Entrega          0.0                 0.0   \n",
       "2242  2012-02-24    21:25:00       Buscar          0.0                 0.0   \n",
       "2243  2012-02-24    22:08:00      Entrega          0.0                 0.0   \n",
       "\n",
       "      valor_total                      tempo dia_da_semana periodo_de_vendas  \\\n",
       "0            32.0  0 days 00:30:00.000000000        Friday             Start   \n",
       "1            30.0  0 days 00:43:00.000000000        Friday             Start   \n",
       "2            27.0  0 days 00:42:00.000000000        Friday             Start   \n",
       "3            30.0  0 days 00:40:00.000000000        Friday             Start   \n",
       "4            30.0  0 days 00:23:00.000000000        Friday             Start   \n",
       "...           ...                        ...           ...               ...   \n",
       "2239         27.0  0 days 00:43:00.000000000        Friday           Maximum   \n",
       "2240         30.0  0 days 00:54:00.000000000        Friday           Maximum   \n",
       "2241         34.5  0 days 00:34:00.000000000        Friday           Maximum   \n",
       "2242         31.0  0 days 00:24:00.000000000        Friday           Maximum   \n",
       "2243         27.0  0 days 00:27:00.000000000        Friday               End   \n",
       "\n",
       "      borda  refrigerante  \n",
       "0     False         False  \n",
       "1     False         False  \n",
       "2     False         False  \n",
       "3     False         False  \n",
       "4     False         False  \n",
       "...     ...           ...  \n",
       "2239  False         False  \n",
       "2240  False         False  \n",
       "2241  False         False  \n",
       "2242  False         False  \n",
       "2243  False         False  \n",
       "\n",
       "[2244 rows x 11 columns]"
      ]
     },
     "execution_count": 2,
     "metadata": {},
     "output_type": "execute_result"
    }
   ],
   "source": [
    "#reading the csv\n",
    "valor_total = pd.read_csv('source/pre_processed.csv')\n",
    "valor_total"
   ]
  },
  {
   "cell_type": "code",
   "execution_count": 5,
   "metadata": {},
   "outputs": [
    {
     "data": {
      "image/png": "[encoded data removed]",
      "text/plain": [
       "<Figure size 432x288 with 1 Axes>"
      ]
     },
     "metadata": {
      "needs_background": "light"
     },
     "output_type": "display_data"
    }
   ],
   "source": [
    "histogram = plt.hist(valor_total['valor_total'], bins=5)"
   ]
  },
  {
   "cell_type": "code",
   "execution_count": 6,
   "metadata": {},
   "outputs": [
    {
     "name": "stdout",
     "output_type": "stream",
     "text": [
      "[10. 18. 26. 34. 42. 50.]\n"
     ]
    }
   ],
   "source": [
    "#Analysing the intervals\n",
    "print(histogram[1])"
   ]
  },
  {
   "cell_type": "code",
   "execution_count": 7,
   "metadata": {},
   "outputs": [
    {
     "name": "stdout",
     "output_type": "stream",
     "text": [
      "10.0\n",
      "18.0\n",
      "26.0\n",
      "34.0\n",
      "42.0\n",
      "50.0\n"
     ]
    }
   ],
   "source": [
    "#Better visualization\n",
    "for i in range(len(histogram[1])):\n",
    "    print(histogram[1][i])"
   ]
  },
  {
   "cell_type": "code",
   "execution_count": 8,
   "metadata": {},
   "outputs": [
    {
     "name": "stdout",
     "output_type": "stream",
     "text": [
      "8.0\n",
      "8.0\n",
      "8.0\n",
      "8.0\n",
      "8.0\n"
     ]
    }
   ],
   "source": [
    "#looking for the diference between a value(class) and the next one\n",
    "for i in range(1, len(histogram[1])):\n",
    "    print(histogram[1][i] - histogram[1][i-1])"
   ]
  },
  {
   "cell_type": "markdown",
   "metadata": {},
   "source": [
    "* __The difference between the previous value and next one is 3.0769230769230.__ \n",
    "* __The histogram has been created for us with interval class equal to 3.0769230769230.__"
   ]
  },
  {
   "cell_type": "markdown",
   "metadata": {},
   "source": [
    "# Another Column"
   ]
  },
  {
   "cell_type": "markdown",
   "metadata": {},
   "source": [
    "* __tempos__"
   ]
  },
  {
   "cell_type": "code",
   "execution_count": 16,
   "metadata": {},
   "outputs": [
    {
     "data": {
      "text/html": [
       "<div>\n",
       "<style scoped>\n",
       "    .dataframe tbody tr th:only-of-type {\n",
       "        vertical-align: middle;\n",
       "    }\n",
       "\n",
       "    .dataframe tbody tr th {\n",
       "        vertical-align: top;\n",
       "    }\n",
       "\n",
       "    .dataframe thead th {\n",
       "        text-align: right;\n",
       "    }\n",
       "</style>\n",
       "<table border=\"1\" class=\"dataframe\">\n",
       "  <thead>\n",
       "    <tr style=\"text-align: right;\">\n",
       "      <th></th>\n",
       "      <th>tempo</th>\n",
       "      <th>tempo2</th>\n",
       "    </tr>\n",
       "  </thead>\n",
       "  <tbody>\n",
       "    <tr>\n",
       "      <th>0</th>\n",
       "      <td>0 days 00:30:00.000000000</td>\n",
       "      <td>30</td>\n",
       "    </tr>\n",
       "    <tr>\n",
       "      <th>1</th>\n",
       "      <td>0 days 00:43:00.000000000</td>\n",
       "      <td>43</td>\n",
       "    </tr>\n",
       "    <tr>\n",
       "      <th>2</th>\n",
       "      <td>0 days 00:42:00.000000000</td>\n",
       "      <td>42</td>\n",
       "    </tr>\n",
       "    <tr>\n",
       "      <th>3</th>\n",
       "      <td>0 days 00:40:00.000000000</td>\n",
       "      <td>40</td>\n",
       "    </tr>\n",
       "    <tr>\n",
       "      <th>4</th>\n",
       "      <td>0 days 00:23:00.000000000</td>\n",
       "      <td>23</td>\n",
       "    </tr>\n",
       "    <tr>\n",
       "      <th>...</th>\n",
       "      <td>...</td>\n",
       "      <td>...</td>\n",
       "    </tr>\n",
       "    <tr>\n",
       "      <th>2239</th>\n",
       "      <td>0 days 00:43:00.000000000</td>\n",
       "      <td>43</td>\n",
       "    </tr>\n",
       "    <tr>\n",
       "      <th>2240</th>\n",
       "      <td>0 days 00:54:00.000000000</td>\n",
       "      <td>54</td>\n",
       "    </tr>\n",
       "    <tr>\n",
       "      <th>2241</th>\n",
       "      <td>0 days 00:34:00.000000000</td>\n",
       "      <td>34</td>\n",
       "    </tr>\n",
       "    <tr>\n",
       "      <th>2242</th>\n",
       "      <td>0 days 00:24:00.000000000</td>\n",
       "      <td>24</td>\n",
       "    </tr>\n",
       "    <tr>\n",
       "      <th>2243</th>\n",
       "      <td>0 days 00:27:00.000000000</td>\n",
       "      <td>27</td>\n",
       "    </tr>\n",
       "  </tbody>\n",
       "</table>\n",
       "<p>2244 rows × 2 columns</p>\n",
       "</div>"
      ],
      "text/plain": [
       "                          tempo  tempo2\n",
       "0     0 days 00:30:00.000000000      30\n",
       "1     0 days 00:43:00.000000000      43\n",
       "2     0 days 00:42:00.000000000      42\n",
       "3     0 days 00:40:00.000000000      40\n",
       "4     0 days 00:23:00.000000000      23\n",
       "...                         ...     ...\n",
       "2239  0 days 00:43:00.000000000      43\n",
       "2240  0 days 00:54:00.000000000      54\n",
       "2241  0 days 00:34:00.000000000      34\n",
       "2242  0 days 00:24:00.000000000      24\n",
       "2243  0 days 00:27:00.000000000      27\n",
       "\n",
       "[2244 rows x 2 columns]"
      ]
     },
     "execution_count": 16,
     "metadata": {},
     "output_type": "execute_result"
    }
   ],
   "source": [
    "#reading the csv\n",
    "tempos = pd.read_csv('source/tempos.csv')\n",
    "tempos"
   ]
  },
  {
   "cell_type": "code",
   "execution_count": 21,
   "metadata": {},
   "outputs": [
    {
     "data": {
      "image/png": "[encoded data removed]",
      "text/plain": [
       "<Figure size 432x288 with 1 Axes>"
      ]
     },
     "metadata": {
      "needs_background": "light"
     },
     "output_type": "display_data"
    }
   ],
   "source": [
    "#Returning the histogram, with a 4 intervals\n",
    "histogram_tempo = plt.hist(tempos['tempo2'], bins=4)"
   ]
  },
  {
   "cell_type": "code",
   "execution_count": 34,
   "metadata": {},
   "outputs": [
    {
     "name": "stdout",
     "output_type": "stream",
     "text": [
      "10.0\n",
      "21.25\n",
      "32.5\n",
      "43.75\n",
      "55.0\n"
     ]
    }
   ],
   "source": [
    "#x values\n",
    "for i in range(len(histogram_tempo[1])):\n",
    "    print(histogram_tempo[1][i])"
   ]
  },
  {
   "cell_type": "markdown",
   "metadata": {},
   "source": [
    "* This way, I can define the class to use in df: \n",
    "\n",
    ">10.0 - 21.25\n",
    "\n",
    ">21.25 - 32.5 \n",
    "\n",
    ">32.5 - 43.75 \n",
    "\n",
    ">43.75 - 55.0 "
   ]
  },
  {
   "cell_type": "code",
   "execution_count": 36,
   "metadata": {},
   "outputs": [
    {
     "name": "stdout",
     "output_type": "stream",
     "text": [
      "75.0\n",
      "412.0\n",
      "854.0\n",
      "903.0\n"
     ]
    }
   ],
   "source": [
    "#y values\n",
    "for j in range(len(histogram_tempo[0])):\n",
    "    print(histogram_tempo[0][j])"
   ]
  }
 ],
 "metadata": {
  "kernelspec": {
   "display_name": "Python 3",
   "language": "python",
   "name": "python3"
  },
  "language_info": {
   "codemirror_mode": {
    "name": "ipython",
    "version": 3
   },
   "file_extension": ".py",
   "mimetype": "text/x-python",
   "name": "python",
   "nbconvert_exporter": "python",
   "pygments_lexer": "ipython3",
   "version": "3.7.0"
  }
 },
 "nbformat": 4,
 "nbformat_minor": 4
}
