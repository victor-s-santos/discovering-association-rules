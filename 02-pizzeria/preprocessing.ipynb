{
 "cells": [
  {
   "cell_type": "code",
   "execution_count": 1,
   "metadata": {},
   "outputs": [],
   "source": [
    "import os\n",
    "import pymysql\n",
    "from dotenv import load_dotenv\n",
    "load_dotenv()\n",
    "\n",
    "HOST = os.getenv('HOST')\n",
    "USER = os.getenv('MYSQL_USER')\n",
    "PASSWORD = os.getenv('MYSQL_ROOT_PASSWORD')\n",
    "DB = os.getenv('MYSQL_DATABASE')\n",
    "\n",
    "connection = pymysql.connect(host=HOST, \n",
    "                      user = USER,\n",
    "                     password = PASSWORD,\n",
    "                     db = DB)\n",
    "\n",
    "cursor = connection.cursor()"
   ]
  },
  {
   "cell_type": "markdown",
   "metadata": {},
   "source": [
    "## Attribute Selection"
   ]
  },
  {
   "cell_type": "code",
   "execution_count": 51,
   "metadata": {},
   "outputs": [
    {
     "data": {
      "text/plain": [
       "(1,\n",
       " '2011-10-07',\n",
       " '18:45:00',\n",
       " 'Cliente 1',\n",
       " 'Endereco 1',\n",
       " '00-000-0000',\n",
       " 'Buscar',\n",
       " 32.0,\n",
       " 0.0,\n",
       " 0.0,\n",
       " 0.0,\n",
       " 32.0,\n",
       " '19:15:00',\n",
       " '00:30:00')"
      ]
     },
     "execution_count": 51,
     "metadata": {},
     "output_type": "execute_result"
    }
   ],
   "source": [
    "cursor.execute(\"SELECT * FROM pedidos\")\n",
    "cursor.fetchall()[0]\n",
    "\n",
    "\"\"\"\n",
    "Caption:\n",
    "numero\n",
    "data_pedido\n",
    "hora_pedido\n",
    "cliente\n",
    "endereco\n",
    "telefone\n",
    "tipo_entrega\n",
    "valor_pizza\n",
    "valor_borda\n",
    "valor_refrigerante\n",
    "valor_entrga\n",
    "valor_total\n",
    "hora_entrega\n",
    "tempo\n",
    "\"\"\""
   ]
  },
  {
   "cell_type": "code",
   "execution_count": 46,
   "metadata": {},
   "outputs": [],
   "source": [
    "#Defining the columns that are going to be droped\n",
    "numero = \"ALTER TABLE pedidos DROP COLUMN numero;\"\n",
    "cliente = \"ALTER TABLE pedidos DROP COLUMN cliente\"\n",
    "endereco = \"ALTER TABLE pedidos DROP COLUMN endereco\"\n",
    "telefone = \"ALTER TABLE pedidos DROP COLUMN telefone\"\n",
    "valor_pizza = \"ALTER TABLE pedidos DROP COLUMN valor_pizza\"\n",
    "valor_entrega = \"ALTER TABLE pedidos DROP COLUMN valor_entrega\"\n",
    "hora_entrega = \"ALTER TABLE pedidos DROP COLUMN hora_entrega\""
   ]
  },
  {
   "cell_type": "code",
   "execution_count": 47,
   "metadata": {},
   "outputs": [],
   "source": [
    "lista = [numero, cliente, endereco, telefone,\n",
    "        valor_pizza, valor_entrega, \n",
    "        hora_entrega]"
   ]
  },
  {
   "cell_type": "code",
   "execution_count": 55,
   "metadata": {},
   "outputs": [],
   "source": [
    "for i in range(len(lista)):\n",
    "    cursor.execute(lista[i])\n",
    "connection.commit()"
   ]
  },
  {
   "cell_type": "markdown",
   "metadata": {},
   "source": [
    "# IMPORTANT\n",
    ">The process shown above can't be done in sqlite, because there are some limitations of sqlite."
   ]
  },
  {
   "cell_type": "code",
   "execution_count": 59,
   "metadata": {},
   "outputs": [
    {
     "data": {
      "text/plain": [
       "[('2015-02-03', '2011-10-07')]"
      ]
     },
     "execution_count": 59,
     "metadata": {},
     "output_type": "execute_result"
    }
   ],
   "source": [
    "#The extremes date\n",
    "cursor.execute(\"SELECT MAX(data_pedido), MIN(data_pedido) FROM pedidos\")\n",
    "cursor.fetchall()"
   ]
  },
  {
   "cell_type": "markdown",
   "metadata": {},
   "source": [
    "* __I am going to use only the values where data_pedido < 2015__"
   ]
  },
  {
   "cell_type": "code",
   "execution_count": 62,
   "metadata": {},
   "outputs": [
    {
     "ename": "OperationalError",
     "evalue": "no such function: dayname",
     "output_type": "error",
     "traceback": [
      "\u001b[0;31m---------------------------------------------------------------------------\u001b[0m",
      "\u001b[0;31mOperationalError\u001b[0m                          Traceback (most recent call last)",
      "\u001b[0;32m<ipython-input-62-f9db5a913e06>\u001b[0m in \u001b[0;36m<module>\u001b[0;34m\u001b[0m\n\u001b[0;32m----> 1\u001b[0;31m \u001b[0mcursor\u001b[0m\u001b[0;34m.\u001b[0m\u001b[0mexecute\u001b[0m\u001b[0;34m(\u001b[0m\u001b[0;34m\"SELECT dayname(data_pedido) FROM pedidos\"\u001b[0m\u001b[0;34m)\u001b[0m\u001b[0;34m\u001b[0m\u001b[0m\n\u001b[0m",
      "\u001b[0;31mOperationalError\u001b[0m: no such function: dayname"
     ]
    }
   ],
   "source": [
    "cursor.execute(\"SELECT dayname(data_pedido) FROM pedidos\")"
   ]
  }
 ],
 "metadata": {
  "kernelspec": {
   "display_name": "Python 3",
   "language": "python",
   "name": "python3"
  },
  "language_info": {
   "codemirror_mode": {
    "name": "ipython",
    "version": 3
   },
   "file_extension": ".py",
   "mimetype": "text/x-python",
   "name": "python",
   "nbconvert_exporter": "python",
   "pygments_lexer": "ipython3",
   "version": "3.7.0"
  }
 },
 "nbformat": 4,
 "nbformat_minor": 4
}
