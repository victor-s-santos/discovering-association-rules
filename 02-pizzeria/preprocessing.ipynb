{
 "cells": [
  {
   "cell_type": "code",
   "execution_count": 36,
   "metadata": {},
   "outputs": [],
   "source": [
    "import sqlite3\n",
    "connection = sqlite3.connect('source/pizzaria.db')\n",
    "cursor = connection.cursor()"
   ]
  },
  {
   "cell_type": "markdown",
   "metadata": {},
   "source": [
    "## Attribute Selection"
   ]
  },
  {
   "cell_type": "code",
   "execution_count": 51,
   "metadata": {},
   "outputs": [
    {
     "data": {
      "text/plain": [
       "(1,\n",
       " '2011-10-07',\n",
       " '18:45:00',\n",
       " 'Cliente 1',\n",
       " 'Endereco 1',\n",
       " '00-000-0000',\n",
       " 'Buscar',\n",
       " 32.0,\n",
       " 0.0,\n",
       " 0.0,\n",
       " 0.0,\n",
       " 32.0,\n",
       " '19:15:00',\n",
       " '00:30:00')"
      ]
     },
     "execution_count": 51,
     "metadata": {},
     "output_type": "execute_result"
    }
   ],
   "source": [
    "cursor.execute(\"SELECT * FROM pedidos\")\n",
    "cursor.fetchall()[0]\n",
    "\n",
    "\"\"\"\n",
    "Caption:\n",
    "numero\n",
    "data_pedido\n",
    "hora_pedido\n",
    "cliente\n",
    "endereco\n",
    "telefone\n",
    "tipo_entrega\n",
    "valor_pizza\n",
    "valor_borda\n",
    "valor_refrigerante\n",
    "valor_entrga\n",
    "valor_total\n",
    "hora_entrega\n",
    "tempo\n",
    "\"\"\""
   ]
  },
  {
   "cell_type": "code",
   "execution_count": 46,
   "metadata": {},
   "outputs": [],
   "source": [
    "#Defining the columns that are going to be droped\n",
    "numero = \"ALTER TABLE pedidos DROP COLUMN numero;\"\n",
    "cliente = \"ALTER TABLE pedidos DROP COLUMN cliente\"\n",
    "endereco = \"ALTER TABLE pedidos DROP COLUMN endereco\"\n",
    "telefone = \"ALTER TABLE pedidos DROP COLUMN telefone\"\n",
    "valor_pizza = \"ALTER TABLE pedidos DROP COLUMN valor_pizza\"\n",
    "valor_entrega = \"ALTER TABLE pedidos DROP COLUMN valor_entrega\"\n",
    "hora_entrega = \"ALTER TABLE pedidos DROP COLUMN hora_entrega\""
   ]
  },
  {
   "cell_type": "code",
   "execution_count": 47,
   "metadata": {},
   "outputs": [],
   "source": [
    "lista = [numero, cliente, endereco, telefone,\n",
    "        valor_pizza, valor_entrega, \n",
    "        hora_entrega]"
   ]
  },
  {
   "cell_type": "code",
   "execution_count": 55,
   "metadata": {},
   "outputs": [],
   "source": [
    "for i in range(len(lista)):\n",
    "    cursor.execute(lista[i])\n",
    "connection.commit()"
   ]
  },
  {
   "cell_type": "markdown",
   "metadata": {},
   "source": [
    "# IMPORTANT\n",
    ">The process shown above can't be done in sqlite, because there are some limitations of sqlite."
   ]
  }
 ],
 "metadata": {
  "kernelspec": {
   "display_name": "Python 3",
   "language": "python",
   "name": "python3"
  },
  "language_info": {
   "codemirror_mode": {
    "name": "ipython",
    "version": 3
   },
   "file_extension": ".py",
   "mimetype": "text/x-python",
   "name": "python",
   "nbconvert_exporter": "python",
   "pygments_lexer": "ipython3",
   "version": "3.7.0"
  }
 },
 "nbformat": 4,
 "nbformat_minor": 4
}
