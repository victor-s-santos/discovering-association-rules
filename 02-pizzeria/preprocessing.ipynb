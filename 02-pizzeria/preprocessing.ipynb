{
 "cells": [
  {
   "cell_type": "code",
   "execution_count": 1,
   "metadata": {},
   "outputs": [],
   "source": [
    "import os\n",
    "import pymysql\n",
    "from dotenv import load_dotenv\n",
    "load_dotenv()\n",
    "\n",
    "HOST = os.getenv('HOST')\n",
    "USER = os.getenv('MYSQL_USER')\n",
    "PASSWORD = os.getenv('MYSQL_ROOT_PASSWORD')\n",
    "DB = os.getenv('MYSQL_DATABASE')\n",
    "\n",
    "connection = pymysql.connect(host=HOST, \n",
    "                      user = USER,\n",
    "                     password = PASSWORD,\n",
    "                     db = DB)\n",
    "\n",
    "cursor = connection.cursor()"
   ]
  },
  {
   "cell_type": "markdown",
   "metadata": {},
   "source": [
    "## Attribute Selection\n",
    "* __Dropping unecessary columns__"
   ]
  },
  {
   "cell_type": "code",
   "execution_count": 51,
   "metadata": {},
   "outputs": [
    {
     "data": {
      "text/plain": [
       "(1,\n",
       " '2011-10-07',\n",
       " '18:45:00',\n",
       " 'Cliente 1',\n",
       " 'Endereco 1',\n",
       " '00-000-0000',\n",
       " 'Buscar',\n",
       " 32.0,\n",
       " 0.0,\n",
       " 0.0,\n",
       " 0.0,\n",
       " 32.0,\n",
       " '19:15:00',\n",
       " '00:30:00')"
      ]
     },
     "execution_count": 51,
     "metadata": {},
     "output_type": "execute_result"
    }
   ],
   "source": [
    "cursor.execute(\"SELECT * FROM pedidos\")\n",
    "cursor.fetchall()[0]\n",
    "\n",
    "\"\"\"\n",
    "Caption:\n",
    "numero\n",
    "data_pedido\n",
    "hora_pedido\n",
    "cliente\n",
    "endereco\n",
    "telefone\n",
    "tipo_entrega\n",
    "valor_pizza\n",
    "valor_borda\n",
    "valor_refrigerante\n",
    "valor_entrga\n",
    "valor_total\n",
    "hora_entrega\n",
    "tempo\n",
    "\"\"\""
   ]
  },
  {
   "cell_type": "code",
   "execution_count": 2,
   "metadata": {},
   "outputs": [],
   "source": [
    "#Defining the columns that are going to be droped\n",
    "numero = \"ALTER TABLE pedidos DROP COLUMN numero;\"\n",
    "cliente = \"ALTER TABLE pedidos DROP COLUMN cliente\"\n",
    "endereco = \"ALTER TABLE pedidos DROP COLUMN endereco\"\n",
    "telefone = \"ALTER TABLE pedidos DROP COLUMN telefone\"\n",
    "valor_pizza = \"ALTER TABLE pedidos DROP COLUMN valor_pizza\"\n",
    "valor_entrega = \"ALTER TABLE pedidos DROP COLUMN valor_entrega\"\n",
    "hora_entrega = \"ALTER TABLE pedidos DROP COLUMN hora_entrega\""
   ]
  },
  {
   "cell_type": "code",
   "execution_count": 3,
   "metadata": {},
   "outputs": [],
   "source": [
    "lista = [numero, cliente, endereco, telefone,\n",
    "        valor_pizza, valor_entrega, \n",
    "        hora_entrega]"
   ]
  },
  {
   "cell_type": "code",
   "execution_count": 4,
   "metadata": {},
   "outputs": [],
   "source": [
    "for i in range(len(lista)):\n",
    "    cursor.execute(lista[i])\n",
    "connection.commit()"
   ]
  },
  {
   "cell_type": "code",
   "execution_count": 7,
   "metadata": {},
   "outputs": [
    {
     "data": {
      "text/plain": [
       "(('Friday',),\n",
       " ('Friday',),\n",
       " ('Friday',),\n",
       " ('Friday',),\n",
       " ('Friday',),\n",
       " ('Friday',),\n",
       " ('Friday',),\n",
       " ('Friday',),\n",
       " ('Friday',),\n",
       " ('Friday',))"
      ]
     },
     "execution_count": 7,
     "metadata": {},
     "output_type": "execute_result"
    }
   ],
   "source": [
    "cursor.execute(\"SELECT dayname(data_pedido) FROM pedidos\")\n",
    "cursor.fetchall()[0:10]"
   ]
  },
  {
   "cell_type": "code",
   "execution_count": 12,
   "metadata": {},
   "outputs": [
    {
     "data": {
      "text/plain": [
       "(datetime.date(2015, 2, 3), datetime.date(2011, 10, 7))"
      ]
     },
     "execution_count": 12,
     "metadata": {},
     "output_type": "execute_result"
    }
   ],
   "source": [
    "cursor.execute(\"SELECT max(data_pedido), min(data_pedido) FROM pedidos\")\n",
    "cursor.fetchone()"
   ]
  },
  {
   "cell_type": "markdown",
   "metadata": {},
   "source": [
    ">__As from this database the entities with data_peido >= 2015 are only a test without value, I am going to remove them__"
   ]
  },
  {
   "cell_type": "code",
   "execution_count": 13,
   "metadata": {},
   "outputs": [],
   "source": [
    "delete_data = \"DELETE FROM pedidos WHERE year(data_pedido) >= 2015\"\n",
    "cursor.execute(delete_data)\n",
    "connection.commit()"
   ]
  },
  {
   "cell_type": "code",
   "execution_count": 15,
   "metadata": {},
   "outputs": [
    {
     "data": {
      "text/plain": [
       "(datetime.date(2012, 2, 24), datetime.date(2011, 10, 7))"
      ]
     },
     "execution_count": 15,
     "metadata": {},
     "output_type": "execute_result"
    }
   ],
   "source": [
    "cursor.execute(\"SELECT max(data_pedido), min(data_pedido) FROM pedidos\")\n",
    "cursor.fetchone()"
   ]
  },
  {
   "cell_type": "code",
   "execution_count": 2,
   "metadata": {},
   "outputs": [
    {
     "data": {
      "text/plain": [
       "((datetime.date(2011, 10, 7), 'Friday'),\n",
       " (datetime.date(2011, 10, 7), 'Friday'),\n",
       " (datetime.date(2011, 10, 7), 'Friday'),\n",
       " (datetime.date(2011, 10, 7), 'Friday'),\n",
       " (datetime.date(2011, 10, 7), 'Friday'))"
      ]
     },
     "execution_count": 2,
     "metadata": {},
     "output_type": "execute_result"
    }
   ],
   "source": [
    "cursor.execute(\"SELECT data_pedido, dayname(data_pedido) FROM pedidos\")\n",
    "cursor.fetchall()[0:5]"
   ]
  },
  {
   "cell_type": "code",
   "execution_count": 56,
   "metadata": {},
   "outputs": [
    {
     "data": {
      "text/plain": [
       "(('18:45', 'Tuesday'),\n",
       " ('18:47', 'Tuesday'),\n",
       " ('18:49', 'Tuesday'),\n",
       " ('18:50', 'Tuesday'),\n",
       " ('18:52', 'Tuesday'))"
      ]
     },
     "execution_count": 56,
     "metadata": {},
     "output_type": "execute_result"
    }
   ],
   "source": [
    "#Returning time and dayname\n",
    "cursor.execute(\"SELECT DATE_FORMAT(hora_pedido, '%H:%i'), dayname(hora_pedido) FROM pedidos\")\n",
    "cursor.fetchall()[0:5]"
   ]
  }
 ],
 "metadata": {
  "kernelspec": {
   "display_name": "Python 3",
   "language": "python",
   "name": "python3"
  },
  "language_info": {
   "codemirror_mode": {
    "name": "ipython",
    "version": 3
   },
   "file_extension": ".py",
   "mimetype": "text/x-python",
   "name": "python",
   "nbconvert_exporter": "python",
   "pygments_lexer": "ipython3",
   "version": "3.7.0"
  }
 },
 "nbformat": 4,
 "nbformat_minor": 4
}
