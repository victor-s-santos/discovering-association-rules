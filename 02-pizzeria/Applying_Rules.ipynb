{
 "cells": [
  {
   "cell_type": "markdown",
   "metadata": {},
   "source": [
    "* __Reading data:__"
   ]
  },
  {
   "cell_type": "code",
   "execution_count": 1,
   "metadata": {},
   "outputs": [
    {
     "name": "stderr",
     "output_type": "stream",
     "text": [
      "/home/visus/.pyenv/versions/3.7.0/lib/python3.7/site-packages/pandas/compat/__init__.py:117: UserWarning: Could not import the lzma module. Your installed Python is incomplete. Attempting to use lzma compression will result in a RuntimeError.\n",
      "  warnings.warn(msg)\n"
     ]
    },
    {
     "data": {
      "text/html": [
       "<div>\n",
       "<style scoped>\n",
       "    .dataframe tbody tr th:only-of-type {\n",
       "        vertical-align: middle;\n",
       "    }\n",
       "\n",
       "    .dataframe tbody tr th {\n",
       "        vertical-align: top;\n",
       "    }\n",
       "\n",
       "    .dataframe thead th {\n",
       "        text-align: right;\n",
       "    }\n",
       "</style>\n",
       "<table border=\"1\" class=\"dataframe\">\n",
       "  <thead>\n",
       "    <tr style=\"text-align: right;\">\n",
       "      <th></th>\n",
       "      <th>dia_da_semana</th>\n",
       "      <th>periodo_de_vendas</th>\n",
       "      <th>borda</th>\n",
       "      <th>refrigerante</th>\n",
       "      <th>intervalo_valor</th>\n",
       "      <th>intervalo</th>\n",
       "    </tr>\n",
       "  </thead>\n",
       "  <tbody>\n",
       "    <tr>\n",
       "      <th>0</th>\n",
       "      <td>Friday</td>\n",
       "      <td>Start</td>\n",
       "      <td>Borda False</td>\n",
       "      <td>Refrigerante False</td>\n",
       "      <td>26.0 - 34.0 R$</td>\n",
       "      <td>21.25 - 32.5 minutes</td>\n",
       "    </tr>\n",
       "    <tr>\n",
       "      <th>1</th>\n",
       "      <td>Friday</td>\n",
       "      <td>Start</td>\n",
       "      <td>Borda False</td>\n",
       "      <td>Refrigerante False</td>\n",
       "      <td>26.0 - 34.0 R$</td>\n",
       "      <td>32.5 - 43.75 minutes</td>\n",
       "    </tr>\n",
       "    <tr>\n",
       "      <th>2</th>\n",
       "      <td>Friday</td>\n",
       "      <td>Start</td>\n",
       "      <td>Borda False</td>\n",
       "      <td>Refrigerante False</td>\n",
       "      <td>26.0 - 34.0 R$</td>\n",
       "      <td>32.5 - 43.75 minutes</td>\n",
       "    </tr>\n",
       "    <tr>\n",
       "      <th>3</th>\n",
       "      <td>Friday</td>\n",
       "      <td>Start</td>\n",
       "      <td>Borda False</td>\n",
       "      <td>Refrigerante False</td>\n",
       "      <td>26.0 - 34.0 R$</td>\n",
       "      <td>32.5 - 43.75 minutes</td>\n",
       "    </tr>\n",
       "    <tr>\n",
       "      <th>4</th>\n",
       "      <td>Friday</td>\n",
       "      <td>Start</td>\n",
       "      <td>Borda False</td>\n",
       "      <td>Refrigerante False</td>\n",
       "      <td>26.0 - 34.0 R$</td>\n",
       "      <td>21.25 - 32.5 minutes</td>\n",
       "    </tr>\n",
       "    <tr>\n",
       "      <th>...</th>\n",
       "      <td>...</td>\n",
       "      <td>...</td>\n",
       "      <td>...</td>\n",
       "      <td>...</td>\n",
       "      <td>...</td>\n",
       "      <td>...</td>\n",
       "    </tr>\n",
       "    <tr>\n",
       "      <th>2239</th>\n",
       "      <td>Friday</td>\n",
       "      <td>Maximum</td>\n",
       "      <td>Borda False</td>\n",
       "      <td>Refrigerante False</td>\n",
       "      <td>26.0 - 34.0 R$</td>\n",
       "      <td>32.5 - 43.75 minutes</td>\n",
       "    </tr>\n",
       "    <tr>\n",
       "      <th>2240</th>\n",
       "      <td>Friday</td>\n",
       "      <td>Maximum</td>\n",
       "      <td>Borda False</td>\n",
       "      <td>Refrigerante False</td>\n",
       "      <td>26.0 - 34.0 R$</td>\n",
       "      <td>43.75 - 55.0 minutes</td>\n",
       "    </tr>\n",
       "    <tr>\n",
       "      <th>2241</th>\n",
       "      <td>Friday</td>\n",
       "      <td>Maximum</td>\n",
       "      <td>Borda False</td>\n",
       "      <td>Refrigerante False</td>\n",
       "      <td>34.0 - 42.0 R$</td>\n",
       "      <td>32.5 - 43.75 minutes</td>\n",
       "    </tr>\n",
       "    <tr>\n",
       "      <th>2242</th>\n",
       "      <td>Friday</td>\n",
       "      <td>Maximum</td>\n",
       "      <td>Borda False</td>\n",
       "      <td>Refrigerante False</td>\n",
       "      <td>26.0 - 34.0 R$</td>\n",
       "      <td>21.25 - 32.5 minutes</td>\n",
       "    </tr>\n",
       "    <tr>\n",
       "      <th>2243</th>\n",
       "      <td>Friday</td>\n",
       "      <td>End</td>\n",
       "      <td>Borda False</td>\n",
       "      <td>Refrigerante False</td>\n",
       "      <td>26.0 - 34.0 R$</td>\n",
       "      <td>21.25 - 32.5 minutes</td>\n",
       "    </tr>\n",
       "  </tbody>\n",
       "</table>\n",
       "<p>2244 rows × 6 columns</p>\n",
       "</div>"
      ],
      "text/plain": [
       "     dia_da_semana periodo_de_vendas        borda        refrigerante  \\\n",
       "0           Friday             Start  Borda False  Refrigerante False   \n",
       "1           Friday             Start  Borda False  Refrigerante False   \n",
       "2           Friday             Start  Borda False  Refrigerante False   \n",
       "3           Friday             Start  Borda False  Refrigerante False   \n",
       "4           Friday             Start  Borda False  Refrigerante False   \n",
       "...            ...               ...          ...                 ...   \n",
       "2239        Friday           Maximum  Borda False  Refrigerante False   \n",
       "2240        Friday           Maximum  Borda False  Refrigerante False   \n",
       "2241        Friday           Maximum  Borda False  Refrigerante False   \n",
       "2242        Friday           Maximum  Borda False  Refrigerante False   \n",
       "2243        Friday               End  Borda False  Refrigerante False   \n",
       "\n",
       "     intervalo_valor             intervalo  \n",
       "0     26.0 - 34.0 R$  21.25 - 32.5 minutes  \n",
       "1     26.0 - 34.0 R$  32.5 - 43.75 minutes  \n",
       "2     26.0 - 34.0 R$  32.5 - 43.75 minutes  \n",
       "3     26.0 - 34.0 R$  32.5 - 43.75 minutes  \n",
       "4     26.0 - 34.0 R$  21.25 - 32.5 minutes  \n",
       "...              ...                   ...  \n",
       "2239  26.0 - 34.0 R$  32.5 - 43.75 minutes  \n",
       "2240  26.0 - 34.0 R$  43.75 - 55.0 minutes  \n",
       "2241  34.0 - 42.0 R$  32.5 - 43.75 minutes  \n",
       "2242  26.0 - 34.0 R$  21.25 - 32.5 minutes  \n",
       "2243  26.0 - 34.0 R$  21.25 - 32.5 minutes  \n",
       "\n",
       "[2244 rows x 6 columns]"
      ]
     },
     "execution_count": 1,
     "metadata": {},
     "output_type": "execute_result"
    }
   ],
   "source": [
    "import pandas as pd\n",
    "\n",
    "data = pd.read_csv('source/ready_data.csv')\n",
    "data"
   ]
  },
  {
   "cell_type": "code",
   "execution_count": 3,
   "metadata": {},
   "outputs": [
    {
     "data": {
      "text/plain": [
       "[['Friday',\n",
       "  'Start',\n",
       "  'Borda False',\n",
       "  'Refrigerante False',\n",
       "  '26.0 - 34.0 R$',\n",
       "  '21.25 - 32.5 minutes'],\n",
       " ['Friday',\n",
       "  'Start',\n",
       "  'Borda False',\n",
       "  'Refrigerante False',\n",
       "  '26.0 - 34.0 R$',\n",
       "  '32.5 - 43.75 minutes'],\n",
       " ['Friday',\n",
       "  'Start',\n",
       "  'Borda False',\n",
       "  'Refrigerante False',\n",
       "  '26.0 - 34.0 R$',\n",
       "  '32.5 - 43.75 minutes']]"
      ]
     },
     "execution_count": 3,
     "metadata": {},
     "output_type": "execute_result"
    }
   ],
   "source": [
    "transactions = []\n",
    "for i in range(0, len(data)):\n",
    "    transactions.append([str(data.values[i, j]) for j in range(0, len(data.columns))])\n",
    "transactions[0:3]"
   ]
  },
  {
   "cell_type": "code",
   "execution_count": 21,
   "metadata": {},
   "outputs": [
    {
     "data": {
      "text/plain": [
       "[[frozenset({'42.0 - 50.0 R$', 'Refrigerante True'}),\n",
       "  0.011586452762923352,\n",
       "  [OrderedStatistic(items_base=frozenset({'42.0 - 50.0 R$'}), items_add=frozenset({'Refrigerante True'}), confidence=0.896551724137931, lift=5.067662642230522)]],\n",
       " [frozenset({'18.0 - 26.0 R$', '32.5 - 43.75 minutes', 'Monday'}),\n",
       "  0.0035650623885918,\n",
       "  [OrderedStatistic(items_base=frozenset({'18.0 - 26.0 R$', 'Monday'}), items_add=frozenset({'32.5 - 43.75 minutes'}), confidence=0.8888888888888887, lift=2.33567525370804)]],\n",
       " [frozenset({'32.5 - 43.75 minutes', 'Maximum', 'Monday'}),\n",
       "  0.0035650623885918,\n",
       "  [OrderedStatistic(items_base=frozenset({'Maximum', 'Monday'}), items_add=frozenset({'32.5 - 43.75 minutes'}), confidence=0.8888888888888887, lift=2.33567525370804)]],\n",
       " [frozenset({'42.0 - 50.0 R$', '43.75 - 55.0 minutes', 'Refrigerante True'}),\n",
       "  0.005793226381461676,\n",
       "  [OrderedStatistic(items_base=frozenset({'43.75 - 55.0 minutes', '42.0 - 50.0 R$'}), items_add=frozenset({'Refrigerante True'}), confidence=1.0, lift=5.652392947103275)]],\n",
       " [frozenset({'42.0 - 50.0 R$', 'Borda False', 'Refrigerante True'}),\n",
       "  0.005793226381461676,\n",
       "  [OrderedStatistic(items_base=frozenset({'Borda False', '42.0 - 50.0 R$'}), items_add=frozenset({'Refrigerante True'}), confidence=0.8666666666666667, lift=4.898740554156172)]]]"
      ]
     },
     "execution_count": 21,
     "metadata": {},
     "output_type": "execute_result"
    }
   ],
   "source": [
    "#Running apyori\n",
    "from apyori import apriori\n",
    "rules = apriori(transactions, \n",
    "                     min_support = 0.003,\n",
    "                     min_confidence = 0.8,\n",
    "                     min_lift = 2.0,\n",
    "                     min_lenght = 2)\n",
    "results = list(rules)\n",
    "results[0:5]\n",
    "results2 = [list(x) for x in results]\n",
    "results2[0:5]"
   ]
  },
  {
   "cell_type": "code",
   "execution_count": 22,
   "metadata": {},
   "outputs": [
    {
     "data": {
      "text/plain": [
       "[[[frozenset({'42.0 - 50.0 R$'}),\n",
       "   frozenset({'Refrigerante True'}),\n",
       "   0.896551724137931,\n",
       "   5.067662642230522]],\n",
       " [[frozenset({'18.0 - 26.0 R$', 'Monday'}),\n",
       "   frozenset({'32.5 - 43.75 minutes'}),\n",
       "   0.8888888888888887,\n",
       "   2.33567525370804]],\n",
       " [[frozenset({'Maximum', 'Monday'}),\n",
       "   frozenset({'32.5 - 43.75 minutes'}),\n",
       "   0.8888888888888887,\n",
       "   2.33567525370804]],\n",
       " [[frozenset({'42.0 - 50.0 R$', '43.75 - 55.0 minutes'}),\n",
       "   frozenset({'Refrigerante True'}),\n",
       "   1.0,\n",
       "   5.652392947103275]],\n",
       " [[frozenset({'42.0 - 50.0 R$', 'Borda False'}),\n",
       "   frozenset({'Refrigerante True'}),\n",
       "   0.8666666666666667,\n",
       "   4.898740554156172]]]"
      ]
     },
     "execution_count": 22,
     "metadata": {},
     "output_type": "execute_result"
    }
   ],
   "source": [
    "formatedresults = []\n",
    "for j in range(0, len(results2)):\n",
    "    formatedresults.append([list(x) for x in results2[j][2]])\n",
    "formatedresults[0:5]"
   ]
  },
  {
   "cell_type": "code",
   "execution_count": 15,
   "metadata": {},
   "outputs": [],
   "source": [
    "def showrules_df(data, support = 0.003, confidence = 0.2, \n",
    "                 lift = 2, lenght = 2):\n",
    "    transactions = []\n",
    "    for i in range(len(data)):\n",
    "        transactions.append([str(data.values[i,j]) for j in range(len(data.columns))])\n",
    "    rules = list(apriori(transactions, \n",
    "                     min_support = support,\n",
    "                     min_confidence = confidence,\n",
    "                     min_lift = lift,\n",
    "                     min_lenght = lenght))\n",
    "    results = []\n",
    "    for item in rules:\n",
    "        pair = item[0]\n",
    "        items = [x for x in pair]\n",
    "\n",
    "        el0 = str(items[0])\n",
    "        el1 = str(items[1])\n",
    "        el2 = str(item[1])[:7]\n",
    "        el3 = str(item[2][0][2])[:7]\n",
    "        el4 = str(item[2][0][3])[:7]\n",
    "\n",
    "        rows = (el0, el1, el2, el3, el4)\n",
    "        results.append(rows)\n",
    "\n",
    "        labels = ['Param1', 'Param2', 'Support', 'Confidence', 'Lift']\n",
    "    \n",
    "    correlations = pd.DataFrame.from_records(results, columns = ['Param1', 'Param2', 'Support', \n",
    "                                                                 'Confidence', 'Lift'])\n",
    "    return(correlations)"
   ]
  },
  {
   "cell_type": "code",
   "execution_count": 16,
   "metadata": {},
   "outputs": [
    {
     "data": {
      "text/html": [
       "<div>\n",
       "<style scoped>\n",
       "    .dataframe tbody tr th:only-of-type {\n",
       "        vertical-align: middle;\n",
       "    }\n",
       "\n",
       "    .dataframe tbody tr th {\n",
       "        vertical-align: top;\n",
       "    }\n",
       "\n",
       "    .dataframe thead th {\n",
       "        text-align: right;\n",
       "    }\n",
       "</style>\n",
       "<table border=\"1\" class=\"dataframe\">\n",
       "  <thead>\n",
       "    <tr style=\"text-align: right;\">\n",
       "      <th></th>\n",
       "      <th>Param1</th>\n",
       "      <th>Param2</th>\n",
       "      <th>Support</th>\n",
       "      <th>Confidence</th>\n",
       "      <th>Lift</th>\n",
       "    </tr>\n",
       "  </thead>\n",
       "  <tbody>\n",
       "    <tr>\n",
       "      <th>0</th>\n",
       "      <td>18.0 - 26.0 R$</td>\n",
       "      <td>Monday</td>\n",
       "      <td>0.00401</td>\n",
       "      <td>0.60000</td>\n",
       "      <td>2.16115</td>\n",
       "    </tr>\n",
       "    <tr>\n",
       "      <th>1</th>\n",
       "      <td>32.5 - 43.75 minutes</td>\n",
       "      <td>Monday</td>\n",
       "      <td>0.00534</td>\n",
       "      <td>0.79999</td>\n",
       "      <td>2.10210</td>\n",
       "    </tr>\n",
       "    <tr>\n",
       "      <th>3</th>\n",
       "      <td>42.0 - 50.0 R$</td>\n",
       "      <td>Borda True</td>\n",
       "      <td>0.00623</td>\n",
       "      <td>0.48275</td>\n",
       "      <td>3.84152</td>\n",
       "    </tr>\n",
       "    <tr>\n",
       "      <th>4</th>\n",
       "      <td>Refrigerante True</td>\n",
       "      <td>42.0 - 50.0 R$</td>\n",
       "      <td>0.01158</td>\n",
       "      <td>0.89655</td>\n",
       "      <td>5.06766</td>\n",
       "    </tr>\n",
       "    <tr>\n",
       "      <th>6</th>\n",
       "      <td>18.0 - 26.0 R$</td>\n",
       "      <td>10 - 21.5 minutes</td>\n",
       "      <td>0.00490</td>\n",
       "      <td>0.47826</td>\n",
       "      <td>2.61760</td>\n",
       "    </tr>\n",
       "    <tr>\n",
       "      <th>...</th>\n",
       "      <td>...</td>\n",
       "      <td>...</td>\n",
       "      <td>...</td>\n",
       "      <td>...</td>\n",
       "      <td>...</td>\n",
       "    </tr>\n",
       "    <tr>\n",
       "      <th>187</th>\n",
       "      <td>34.0 - 42.0 R$</td>\n",
       "      <td>Maximum</td>\n",
       "      <td>0.00311</td>\n",
       "      <td>0.5</td>\n",
       "      <td>2.12098</td>\n",
       "    </tr>\n",
       "    <tr>\n",
       "      <th>198</th>\n",
       "      <td>34.0 - 42.0 R$</td>\n",
       "      <td>End</td>\n",
       "      <td>0.00311</td>\n",
       "      <td>0.5</td>\n",
       "      <td>3.13407</td>\n",
       "    </tr>\n",
       "    <tr>\n",
       "      <th>203</th>\n",
       "      <td>34.0 - 42.0 R$</td>\n",
       "      <td>Maximum</td>\n",
       "      <td>0.00311</td>\n",
       "      <td>0.5</td>\n",
       "      <td>2.82619</td>\n",
       "    </tr>\n",
       "    <tr>\n",
       "      <th>219</th>\n",
       "      <td>34.0 - 42.0 R$</td>\n",
       "      <td>Maximum</td>\n",
       "      <td>0.00311</td>\n",
       "      <td>0.43750</td>\n",
       "      <td>4.88432</td>\n",
       "    </tr>\n",
       "    <tr>\n",
       "      <th>231</th>\n",
       "      <td>34.0 - 42.0 R$</td>\n",
       "      <td>Maximum</td>\n",
       "      <td>0.00311</td>\n",
       "      <td>0.5</td>\n",
       "      <td>2.57931</td>\n",
       "    </tr>\n",
       "  </tbody>\n",
       "</table>\n",
       "<p>65 rows × 5 columns</p>\n",
       "</div>"
      ],
      "text/plain": [
       "                   Param1             Param2  Support Confidence     Lift\n",
       "0          18.0 - 26.0 R$             Monday  0.00401    0.60000  2.16115\n",
       "1    32.5 - 43.75 minutes             Monday  0.00534    0.79999  2.10210\n",
       "3          42.0 - 50.0 R$         Borda True  0.00623    0.48275  3.84152\n",
       "4       Refrigerante True     42.0 - 50.0 R$  0.01158    0.89655  5.06766\n",
       "6          18.0 - 26.0 R$  10 - 21.5 minutes  0.00490    0.47826  2.61760\n",
       "..                    ...                ...      ...        ...      ...\n",
       "187        34.0 - 42.0 R$            Maximum  0.00311        0.5  2.12098\n",
       "198        34.0 - 42.0 R$                End  0.00311        0.5  3.13407\n",
       "203        34.0 - 42.0 R$            Maximum  0.00311        0.5  2.82619\n",
       "219        34.0 - 42.0 R$            Maximum  0.00311    0.43750  4.88432\n",
       "231        34.0 - 42.0 R$            Maximum  0.00311        0.5  2.57931\n",
       "\n",
       "[65 rows x 5 columns]"
      ]
     },
     "execution_count": 16,
     "metadata": {},
     "output_type": "execute_result"
    }
   ],
   "source": [
    "showrules_df(data).loc[showrules_df(data)['Confidence'] > str(0.4)]"
   ]
  },
  {
   "cell_type": "code",
   "execution_count": 31,
   "metadata": {},
   "outputs": [],
   "source": [
    "def show_rules(data, support = 0.003, confidence = 0.2, \n",
    "               lift = 2, lenght = 2):\n",
    "    \"\"\"Must returns each rule existing in data\"\"\" \n",
    "    transactions = []\n",
    "    for i in range(0, len(data)):\n",
    "        transactions.append([str(data.values[i, j]) for j in range(0, len(data.columns))])\n",
    "    rules = apriori(transactions, \n",
    "                         min_support = support,\n",
    "                         min_confidence = confidence,\n",
    "                         min_lift = lift,\n",
    "                         min_lenght = lenght)\n",
    "    results = list(rules)\n",
    "    results2 = [list(x) for x in results]\n",
    "    formatedresults = []\n",
    "    for j in range(0, len(results2)):\n",
    "        formatedresults.append([list(x) for x in results2[j][2]])\n",
    "    return(formatedresults)\n",
    "\"\"\"Looking at the size of the returned value from each these above functions \"\"\""
   ]
  },
  {
   "cell_type": "code",
   "execution_count": 32,
   "metadata": {},
   "outputs": [
    {
     "data": {
      "text/plain": [
       "[[[frozenset({'Monday'}),\n",
       "   frozenset({'18.0 - 26.0 R$'}),\n",
       "   0.6000000000000001,\n",
       "   2.1611556982343503]],\n",
       " [[frozenset({'Monday'}),\n",
       "   frozenset({'32.5 - 43.75 minutes'}),\n",
       "   0.7999999999999999,\n",
       "   2.1021077283372365]],\n",
       " [[frozenset({'34.0 - 42.0 R$'}),\n",
       "   frozenset({'Refrigerante True'}),\n",
       "   0.35580524344569286,\n",
       "   2.011151048594798],\n",
       "  [frozenset({'Refrigerante True'}),\n",
       "   frozenset({'34.0 - 42.0 R$'}),\n",
       "   0.47858942065491183,\n",
       "   2.011151048594798]],\n",
       " [[frozenset({'42.0 - 50.0 R$'}),\n",
       "   frozenset({'Borda True'}),\n",
       "   0.48275862068965514,\n",
       "   3.841526045487894]],\n",
       " [[frozenset({'42.0 - 50.0 R$'}),\n",
       "   frozenset({'Refrigerante True'}),\n",
       "   0.896551724137931,\n",
       "   5.067662642230522]]]"
      ]
     },
     "execution_count": 32,
     "metadata": {},
     "output_type": "execute_result"
    }
   ],
   "source": [
    "show_rules(data)[0:5]"
   ]
  },
  {
   "cell_type": "markdown",
   "metadata": {},
   "source": [
    "* As I have a large amount of columns in my df, I should set only specific columns to each rule instead off all columns\n",
    "\n",
    "\n",
    "* __Example:__ Lets take a look in the relation(week day and price)"
   ]
  },
  {
   "cell_type": "code",
   "execution_count": 28,
   "metadata": {},
   "outputs": [
    {
     "data": {
      "text/html": [
       "<div>\n",
       "<style scoped>\n",
       "    .dataframe tbody tr th:only-of-type {\n",
       "        vertical-align: middle;\n",
       "    }\n",
       "\n",
       "    .dataframe tbody tr th {\n",
       "        vertical-align: top;\n",
       "    }\n",
       "\n",
       "    .dataframe thead th {\n",
       "        text-align: right;\n",
       "    }\n",
       "</style>\n",
       "<table border=\"1\" class=\"dataframe\">\n",
       "  <thead>\n",
       "    <tr style=\"text-align: right;\">\n",
       "      <th></th>\n",
       "      <th>dia_da_semana</th>\n",
       "      <th>intervalo_valor</th>\n",
       "    </tr>\n",
       "  </thead>\n",
       "  <tbody>\n",
       "    <tr>\n",
       "      <th>0</th>\n",
       "      <td>Friday</td>\n",
       "      <td>26.0 - 34.0 R$</td>\n",
       "    </tr>\n",
       "    <tr>\n",
       "      <th>1</th>\n",
       "      <td>Friday</td>\n",
       "      <td>26.0 - 34.0 R$</td>\n",
       "    </tr>\n",
       "    <tr>\n",
       "      <th>2</th>\n",
       "      <td>Friday</td>\n",
       "      <td>26.0 - 34.0 R$</td>\n",
       "    </tr>\n",
       "    <tr>\n",
       "      <th>3</th>\n",
       "      <td>Friday</td>\n",
       "      <td>26.0 - 34.0 R$</td>\n",
       "    </tr>\n",
       "    <tr>\n",
       "      <th>4</th>\n",
       "      <td>Friday</td>\n",
       "      <td>26.0 - 34.0 R$</td>\n",
       "    </tr>\n",
       "    <tr>\n",
       "      <th>...</th>\n",
       "      <td>...</td>\n",
       "      <td>...</td>\n",
       "    </tr>\n",
       "    <tr>\n",
       "      <th>2239</th>\n",
       "      <td>Friday</td>\n",
       "      <td>26.0 - 34.0 R$</td>\n",
       "    </tr>\n",
       "    <tr>\n",
       "      <th>2240</th>\n",
       "      <td>Friday</td>\n",
       "      <td>26.0 - 34.0 R$</td>\n",
       "    </tr>\n",
       "    <tr>\n",
       "      <th>2241</th>\n",
       "      <td>Friday</td>\n",
       "      <td>34.0 - 42.0 R$</td>\n",
       "    </tr>\n",
       "    <tr>\n",
       "      <th>2242</th>\n",
       "      <td>Friday</td>\n",
       "      <td>26.0 - 34.0 R$</td>\n",
       "    </tr>\n",
       "    <tr>\n",
       "      <th>2243</th>\n",
       "      <td>Friday</td>\n",
       "      <td>26.0 - 34.0 R$</td>\n",
       "    </tr>\n",
       "  </tbody>\n",
       "</table>\n",
       "<p>2244 rows × 2 columns</p>\n",
       "</div>"
      ],
      "text/plain": [
       "     dia_da_semana intervalo_valor\n",
       "0           Friday  26.0 - 34.0 R$\n",
       "1           Friday  26.0 - 34.0 R$\n",
       "2           Friday  26.0 - 34.0 R$\n",
       "3           Friday  26.0 - 34.0 R$\n",
       "4           Friday  26.0 - 34.0 R$\n",
       "...            ...             ...\n",
       "2239        Friday  26.0 - 34.0 R$\n",
       "2240        Friday  26.0 - 34.0 R$\n",
       "2241        Friday  34.0 - 42.0 R$\n",
       "2242        Friday  26.0 - 34.0 R$\n",
       "2243        Friday  26.0 - 34.0 R$\n",
       "\n",
       "[2244 rows x 2 columns]"
      ]
     },
     "execution_count": 28,
     "metadata": {},
     "output_type": "execute_result"
    }
   ],
   "source": [
    "day_price = data[['dia_da_semana','intervalo_valor']]\n",
    "day_price"
   ]
  },
  {
   "cell_type": "code",
   "execution_count": 33,
   "metadata": {},
   "outputs": [
    {
     "data": {
      "text/plain": [
       "[[[frozenset({'Monday'}),\n",
       "   frozenset({'18.0 - 26.0 R$'}),\n",
       "   0.6000000000000001,\n",
       "   2.1611556982343503]],\n",
       " [[frozenset({'42.0 - 50.0 R$'}),\n",
       "   frozenset({'Tuesday'}),\n",
       "   0.2758620689655172,\n",
       "   2.009852216748768]]]"
      ]
     },
     "execution_count": 33,
     "metadata": {},
     "output_type": "execute_result"
    }
   ],
   "source": [
    "show_rules(day_price)"
   ]
  },
  {
   "cell_type": "code",
   "execution_count": 34,
   "metadata": {},
   "outputs": [
    {
     "data": {
      "text/html": [
       "<div>\n",
       "<style scoped>\n",
       "    .dataframe tbody tr th:only-of-type {\n",
       "        vertical-align: middle;\n",
       "    }\n",
       "\n",
       "    .dataframe tbody tr th {\n",
       "        vertical-align: top;\n",
       "    }\n",
       "\n",
       "    .dataframe thead th {\n",
       "        text-align: right;\n",
       "    }\n",
       "</style>\n",
       "<table border=\"1\" class=\"dataframe\">\n",
       "  <thead>\n",
       "    <tr style=\"text-align: right;\">\n",
       "      <th></th>\n",
       "      <th>Param1</th>\n",
       "      <th>Param2</th>\n",
       "      <th>Support</th>\n",
       "      <th>Confidence</th>\n",
       "      <th>Lift</th>\n",
       "    </tr>\n",
       "  </thead>\n",
       "  <tbody>\n",
       "    <tr>\n",
       "      <th>0</th>\n",
       "      <td>18.0 - 26.0 R$</td>\n",
       "      <td>Monday</td>\n",
       "      <td>0.00401</td>\n",
       "      <td>0.60000</td>\n",
       "      <td>2.16115</td>\n",
       "    </tr>\n",
       "    <tr>\n",
       "      <th>1</th>\n",
       "      <td>Tuesday</td>\n",
       "      <td>42.0 - 50.0 R$</td>\n",
       "      <td>0.00356</td>\n",
       "      <td>0.27586</td>\n",
       "      <td>2.00985</td>\n",
       "    </tr>\n",
       "  </tbody>\n",
       "</table>\n",
       "</div>"
      ],
      "text/plain": [
       "           Param1          Param2  Support Confidence     Lift\n",
       "0  18.0 - 26.0 R$          Monday  0.00401    0.60000  2.16115\n",
       "1         Tuesday  42.0 - 50.0 R$  0.00356    0.27586  2.00985"
      ]
     },
     "execution_count": 34,
     "metadata": {},
     "output_type": "execute_result"
    }
   ],
   "source": [
    "showrules_df(day_price)"
   ]
  },
  {
   "cell_type": "markdown",
   "metadata": {},
   "source": [
    "* __Soda and price:__"
   ]
  },
  {
   "cell_type": "code",
   "execution_count": 35,
   "metadata": {},
   "outputs": [
    {
     "data": {
      "text/html": [
       "<div>\n",
       "<style scoped>\n",
       "    .dataframe tbody tr th:only-of-type {\n",
       "        vertical-align: middle;\n",
       "    }\n",
       "\n",
       "    .dataframe tbody tr th {\n",
       "        vertical-align: top;\n",
       "    }\n",
       "\n",
       "    .dataframe thead th {\n",
       "        text-align: right;\n",
       "    }\n",
       "</style>\n",
       "<table border=\"1\" class=\"dataframe\">\n",
       "  <thead>\n",
       "    <tr style=\"text-align: right;\">\n",
       "      <th></th>\n",
       "      <th>refrigerante</th>\n",
       "      <th>intervalo_valor</th>\n",
       "    </tr>\n",
       "  </thead>\n",
       "  <tbody>\n",
       "    <tr>\n",
       "      <th>0</th>\n",
       "      <td>Refrigerante False</td>\n",
       "      <td>26.0 - 34.0 R$</td>\n",
       "    </tr>\n",
       "    <tr>\n",
       "      <th>1</th>\n",
       "      <td>Refrigerante False</td>\n",
       "      <td>26.0 - 34.0 R$</td>\n",
       "    </tr>\n",
       "    <tr>\n",
       "      <th>2</th>\n",
       "      <td>Refrigerante False</td>\n",
       "      <td>26.0 - 34.0 R$</td>\n",
       "    </tr>\n",
       "    <tr>\n",
       "      <th>3</th>\n",
       "      <td>Refrigerante False</td>\n",
       "      <td>26.0 - 34.0 R$</td>\n",
       "    </tr>\n",
       "    <tr>\n",
       "      <th>4</th>\n",
       "      <td>Refrigerante False</td>\n",
       "      <td>26.0 - 34.0 R$</td>\n",
       "    </tr>\n",
       "    <tr>\n",
       "      <th>...</th>\n",
       "      <td>...</td>\n",
       "      <td>...</td>\n",
       "    </tr>\n",
       "    <tr>\n",
       "      <th>2239</th>\n",
       "      <td>Refrigerante False</td>\n",
       "      <td>26.0 - 34.0 R$</td>\n",
       "    </tr>\n",
       "    <tr>\n",
       "      <th>2240</th>\n",
       "      <td>Refrigerante False</td>\n",
       "      <td>26.0 - 34.0 R$</td>\n",
       "    </tr>\n",
       "    <tr>\n",
       "      <th>2241</th>\n",
       "      <td>Refrigerante False</td>\n",
       "      <td>34.0 - 42.0 R$</td>\n",
       "    </tr>\n",
       "    <tr>\n",
       "      <th>2242</th>\n",
       "      <td>Refrigerante False</td>\n",
       "      <td>26.0 - 34.0 R$</td>\n",
       "    </tr>\n",
       "    <tr>\n",
       "      <th>2243</th>\n",
       "      <td>Refrigerante False</td>\n",
       "      <td>26.0 - 34.0 R$</td>\n",
       "    </tr>\n",
       "  </tbody>\n",
       "</table>\n",
       "<p>2244 rows × 2 columns</p>\n",
       "</div>"
      ],
      "text/plain": [
       "            refrigerante intervalo_valor\n",
       "0     Refrigerante False  26.0 - 34.0 R$\n",
       "1     Refrigerante False  26.0 - 34.0 R$\n",
       "2     Refrigerante False  26.0 - 34.0 R$\n",
       "3     Refrigerante False  26.0 - 34.0 R$\n",
       "4     Refrigerante False  26.0 - 34.0 R$\n",
       "...                  ...             ...\n",
       "2239  Refrigerante False  26.0 - 34.0 R$\n",
       "2240  Refrigerante False  26.0 - 34.0 R$\n",
       "2241  Refrigerante False  34.0 - 42.0 R$\n",
       "2242  Refrigerante False  26.0 - 34.0 R$\n",
       "2243  Refrigerante False  26.0 - 34.0 R$\n",
       "\n",
       "[2244 rows x 2 columns]"
      ]
     },
     "execution_count": 35,
     "metadata": {},
     "output_type": "execute_result"
    }
   ],
   "source": [
    "soda_price = data[['refrigerante','intervalo_valor']]\n",
    "soda_price"
   ]
  },
  {
   "cell_type": "code",
   "execution_count": 36,
   "metadata": {},
   "outputs": [
    {
     "data": {
      "text/plain": [
       "[[[frozenset({'34.0 - 42.0 R$'}),\n",
       "   frozenset({'Refrigerante True'}),\n",
       "   0.35580524344569286,\n",
       "   2.011151048594798],\n",
       "  [frozenset({'Refrigerante True'}),\n",
       "   frozenset({'34.0 - 42.0 R$'}),\n",
       "   0.47858942065491183,\n",
       "   2.011151048594798]],\n",
       " [[frozenset({'42.0 - 50.0 R$'}),\n",
       "   frozenset({'Refrigerante True'}),\n",
       "   0.896551724137931,\n",
       "   5.067662642230522]]]"
      ]
     },
     "execution_count": 36,
     "metadata": {},
     "output_type": "execute_result"
    }
   ],
   "source": [
    "show_rules(soda_price)"
   ]
  },
  {
   "cell_type": "code",
   "execution_count": 37,
   "metadata": {},
   "outputs": [
    {
     "data": {
      "text/html": [
       "<div>\n",
       "<style scoped>\n",
       "    .dataframe tbody tr th:only-of-type {\n",
       "        vertical-align: middle;\n",
       "    }\n",
       "\n",
       "    .dataframe tbody tr th {\n",
       "        vertical-align: top;\n",
       "    }\n",
       "\n",
       "    .dataframe thead th {\n",
       "        text-align: right;\n",
       "    }\n",
       "</style>\n",
       "<table border=\"1\" class=\"dataframe\">\n",
       "  <thead>\n",
       "    <tr style=\"text-align: right;\">\n",
       "      <th></th>\n",
       "      <th>Param1</th>\n",
       "      <th>Param2</th>\n",
       "      <th>Support</th>\n",
       "      <th>Confidence</th>\n",
       "      <th>Lift</th>\n",
       "    </tr>\n",
       "  </thead>\n",
       "  <tbody>\n",
       "    <tr>\n",
       "      <th>0</th>\n",
       "      <td>Refrigerante True</td>\n",
       "      <td>34.0 - 42.0 R$</td>\n",
       "      <td>0.08467</td>\n",
       "      <td>0.35580</td>\n",
       "      <td>2.01115</td>\n",
       "    </tr>\n",
       "    <tr>\n",
       "      <th>1</th>\n",
       "      <td>Refrigerante True</td>\n",
       "      <td>42.0 - 50.0 R$</td>\n",
       "      <td>0.01158</td>\n",
       "      <td>0.89655</td>\n",
       "      <td>5.06766</td>\n",
       "    </tr>\n",
       "  </tbody>\n",
       "</table>\n",
       "</div>"
      ],
      "text/plain": [
       "              Param1          Param2  Support Confidence     Lift\n",
       "0  Refrigerante True  34.0 - 42.0 R$  0.08467    0.35580  2.01115\n",
       "1  Refrigerante True  42.0 - 50.0 R$  0.01158    0.89655  5.06766"
      ]
     },
     "execution_count": 37,
     "metadata": {},
     "output_type": "execute_result"
    }
   ],
   "source": [
    "showrules_df(soda_price)"
   ]
  },
  {
   "cell_type": "code",
   "execution_count": 40,
   "metadata": {},
   "outputs": [
    {
     "data": {
      "text/plain": [
       "[[[frozenset({'Monday'}),\n",
       "   frozenset({'18.0 - 26.0 R$'}),\n",
       "   0.6000000000000001,\n",
       "   2.1611556982343503]],\n",
       " [[frozenset({'42.0 - 50.0 R$'}),\n",
       "   frozenset({'Tuesday'}),\n",
       "   0.2758620689655172,\n",
       "   2.009852216748768]]]"
      ]
     },
     "execution_count": 40,
     "metadata": {},
     "output_type": "execute_result"
    }
   ],
   "source": [
    "show_rules(data[['dia_da_semana', 'intervalo_valor']])"
   ]
  },
  {
   "cell_type": "code",
   "execution_count": 41,
   "metadata": {},
   "outputs": [
    {
     "data": {
      "text/plain": [
       "[]"
      ]
     },
     "execution_count": 41,
     "metadata": {},
     "output_type": "execute_result"
    }
   ],
   "source": [
    "show_rules(data[['periodo_de_vendas', 'intervalo_valor']])"
   ]
  },
  {
   "cell_type": "code",
   "execution_count": 43,
   "metadata": {},
   "outputs": [
    {
     "data": {
      "text/plain": [
       "[[[frozenset({'10.0 - 18.0 R$'}),\n",
       "   frozenset({'Start'}),\n",
       "   0.3333333333333333,\n",
       "   1.2529313232830819]],\n",
       " [[frozenset({'42.0 - 50.0 R$'}),\n",
       "   frozenset({'Maximum'}),\n",
       "   0.8275862068965516,\n",
       "   1.50129623951161]]]"
      ]
     },
     "execution_count": 43,
     "metadata": {},
     "output_type": "execute_result"
    }
   ],
   "source": [
    "show_rules(data[['periodo_de_vendas', 'intervalo_valor']], lift=1.25)"
   ]
  },
  {
   "cell_type": "markdown",
   "metadata": {},
   "source": [
    "# An idea that could be applied:\n",
    "* __From Apyori above results:__\n",
    "    >`We can observe the costumer make expensive orders in rush hour. It might be a good idea to offer a expensive pizzas promotional price in a non rush hour.`\n",
    "\n",
    "* As we can notice, the people whose buy light cream has almost 5 times more tendence to buy chicken in the same order than the people don't buy light cream. So, it could be a good idea to place these two items near themselves."
   ]
  },
  {
   "cell_type": "markdown",
   "metadata": {},
   "source": [
    "* __OBS:__\n",
    ">* Analysing the above result, we can observe that the soda is likely bought when total price is high. We can supose the people buy pizza and soda together for higher value from pizza, or wen people buy more than one pizza unity. This makes sense, because if more than one pizza is bought in a single order, it is reasonable to assume the pizzas was bought for a large amount of people (big family, or big amount of friends).\n",
    "    \n",
    "    >* It is a good idea to use the function which returns a dataframe only for two attributes."
   ]
  }
 ],
 "metadata": {
  "kernelspec": {
   "display_name": "Python 3",
   "language": "python",
   "name": "python3"
  },
  "language_info": {
   "codemirror_mode": {
    "name": "ipython",
    "version": 3
   },
   "file_extension": ".py",
   "mimetype": "text/x-python",
   "name": "python",
   "nbconvert_exporter": "python",
   "pygments_lexer": "ipython3",
   "version": "3.7.0"
  }
 },
 "nbformat": 4,
 "nbformat_minor": 4
}
