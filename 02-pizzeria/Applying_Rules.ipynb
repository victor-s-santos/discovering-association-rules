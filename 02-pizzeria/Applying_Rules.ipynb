{
 "cells": [
  {
   "cell_type": "markdown",
   "metadata": {},
   "source": [
    "* __Reading data:__"
   ]
  },
  {
   "cell_type": "code",
   "execution_count": 65,
   "metadata": {},
   "outputs": [
    {
     "data": {
      "text/html": [
       "<div>\n",
       "<style scoped>\n",
       "    .dataframe tbody tr th:only-of-type {\n",
       "        vertical-align: middle;\n",
       "    }\n",
       "\n",
       "    .dataframe tbody tr th {\n",
       "        vertical-align: top;\n",
       "    }\n",
       "\n",
       "    .dataframe thead th {\n",
       "        text-align: right;\n",
       "    }\n",
       "</style>\n",
       "<table border=\"1\" class=\"dataframe\">\n",
       "  <thead>\n",
       "    <tr style=\"text-align: right;\">\n",
       "      <th></th>\n",
       "      <th>dia_da_semana</th>\n",
       "      <th>periodo_de_vendas</th>\n",
       "      <th>borda</th>\n",
       "      <th>refrigerante</th>\n",
       "      <th>intervalo_valor</th>\n",
       "      <th>intervalo</th>\n",
       "    </tr>\n",
       "  </thead>\n",
       "  <tbody>\n",
       "    <tr>\n",
       "      <th>0</th>\n",
       "      <td>Friday</td>\n",
       "      <td>Start</td>\n",
       "      <td>Borda False</td>\n",
       "      <td>Refrigerante False</td>\n",
       "      <td>26.0 - 34.0 R$</td>\n",
       "      <td>21.25 - 32.5 minutes</td>\n",
       "    </tr>\n",
       "    <tr>\n",
       "      <th>1</th>\n",
       "      <td>Friday</td>\n",
       "      <td>Start</td>\n",
       "      <td>Borda False</td>\n",
       "      <td>Refrigerante False</td>\n",
       "      <td>26.0 - 34.0 R$</td>\n",
       "      <td>32.5 - 43.75 minutes</td>\n",
       "    </tr>\n",
       "    <tr>\n",
       "      <th>2</th>\n",
       "      <td>Friday</td>\n",
       "      <td>Start</td>\n",
       "      <td>Borda False</td>\n",
       "      <td>Refrigerante False</td>\n",
       "      <td>26.0 - 34.0 R$</td>\n",
       "      <td>32.5 - 43.75 minutes</td>\n",
       "    </tr>\n",
       "    <tr>\n",
       "      <th>3</th>\n",
       "      <td>Friday</td>\n",
       "      <td>Start</td>\n",
       "      <td>Borda False</td>\n",
       "      <td>Refrigerante False</td>\n",
       "      <td>26.0 - 34.0 R$</td>\n",
       "      <td>32.5 - 43.75 minutes</td>\n",
       "    </tr>\n",
       "    <tr>\n",
       "      <th>4</th>\n",
       "      <td>Friday</td>\n",
       "      <td>Start</td>\n",
       "      <td>Borda False</td>\n",
       "      <td>Refrigerante False</td>\n",
       "      <td>26.0 - 34.0 R$</td>\n",
       "      <td>21.25 - 32.5 minutes</td>\n",
       "    </tr>\n",
       "    <tr>\n",
       "      <th>...</th>\n",
       "      <td>...</td>\n",
       "      <td>...</td>\n",
       "      <td>...</td>\n",
       "      <td>...</td>\n",
       "      <td>...</td>\n",
       "      <td>...</td>\n",
       "    </tr>\n",
       "    <tr>\n",
       "      <th>2239</th>\n",
       "      <td>Friday</td>\n",
       "      <td>Maximum</td>\n",
       "      <td>Borda False</td>\n",
       "      <td>Refrigerante False</td>\n",
       "      <td>26.0 - 34.0 R$</td>\n",
       "      <td>32.5 - 43.75 minutes</td>\n",
       "    </tr>\n",
       "    <tr>\n",
       "      <th>2240</th>\n",
       "      <td>Friday</td>\n",
       "      <td>Maximum</td>\n",
       "      <td>Borda False</td>\n",
       "      <td>Refrigerante False</td>\n",
       "      <td>26.0 - 34.0 R$</td>\n",
       "      <td>43.75 - 55.0 minutes</td>\n",
       "    </tr>\n",
       "    <tr>\n",
       "      <th>2241</th>\n",
       "      <td>Friday</td>\n",
       "      <td>Maximum</td>\n",
       "      <td>Borda False</td>\n",
       "      <td>Refrigerante False</td>\n",
       "      <td>34.0 - 42.0 R$</td>\n",
       "      <td>32.5 - 43.75 minutes</td>\n",
       "    </tr>\n",
       "    <tr>\n",
       "      <th>2242</th>\n",
       "      <td>Friday</td>\n",
       "      <td>Maximum</td>\n",
       "      <td>Borda False</td>\n",
       "      <td>Refrigerante False</td>\n",
       "      <td>26.0 - 34.0 R$</td>\n",
       "      <td>21.25 - 32.5 minutes</td>\n",
       "    </tr>\n",
       "    <tr>\n",
       "      <th>2243</th>\n",
       "      <td>Friday</td>\n",
       "      <td>End</td>\n",
       "      <td>Borda False</td>\n",
       "      <td>Refrigerante False</td>\n",
       "      <td>26.0 - 34.0 R$</td>\n",
       "      <td>21.25 - 32.5 minutes</td>\n",
       "    </tr>\n",
       "  </tbody>\n",
       "</table>\n",
       "<p>2244 rows × 6 columns</p>\n",
       "</div>"
      ],
      "text/plain": [
       "     dia_da_semana periodo_de_vendas        borda        refrigerante  \\\n",
       "0           Friday             Start  Borda False  Refrigerante False   \n",
       "1           Friday             Start  Borda False  Refrigerante False   \n",
       "2           Friday             Start  Borda False  Refrigerante False   \n",
       "3           Friday             Start  Borda False  Refrigerante False   \n",
       "4           Friday             Start  Borda False  Refrigerante False   \n",
       "...            ...               ...          ...                 ...   \n",
       "2239        Friday           Maximum  Borda False  Refrigerante False   \n",
       "2240        Friday           Maximum  Borda False  Refrigerante False   \n",
       "2241        Friday           Maximum  Borda False  Refrigerante False   \n",
       "2242        Friday           Maximum  Borda False  Refrigerante False   \n",
       "2243        Friday               End  Borda False  Refrigerante False   \n",
       "\n",
       "     intervalo_valor             intervalo  \n",
       "0     26.0 - 34.0 R$  21.25 - 32.5 minutes  \n",
       "1     26.0 - 34.0 R$  32.5 - 43.75 minutes  \n",
       "2     26.0 - 34.0 R$  32.5 - 43.75 minutes  \n",
       "3     26.0 - 34.0 R$  32.5 - 43.75 minutes  \n",
       "4     26.0 - 34.0 R$  21.25 - 32.5 minutes  \n",
       "...              ...                   ...  \n",
       "2239  26.0 - 34.0 R$  32.5 - 43.75 minutes  \n",
       "2240  26.0 - 34.0 R$  43.75 - 55.0 minutes  \n",
       "2241  34.0 - 42.0 R$  32.5 - 43.75 minutes  \n",
       "2242  26.0 - 34.0 R$  21.25 - 32.5 minutes  \n",
       "2243  26.0 - 34.0 R$  21.25 - 32.5 minutes  \n",
       "\n",
       "[2244 rows x 6 columns]"
      ]
     },
     "execution_count": 65,
     "metadata": {},
     "output_type": "execute_result"
    }
   ],
   "source": [
    "import pandas as pd\n",
    "\n",
    "data = pd.read_csv('source/ready_data.csv')\n",
    "data"
   ]
  },
  {
   "cell_type": "code",
   "execution_count": 66,
   "metadata": {},
   "outputs": [
    {
     "data": {
      "text/plain": [
       "(2244,\n",
       " ['Friday',\n",
       "  'Start',\n",
       "  'Borda False',\n",
       "  'Refrigerante False',\n",
       "  '26.0 - 34.0 R$',\n",
       "  '21.25 - 32.5 minutes'])"
      ]
     },
     "execution_count": 66,
     "metadata": {},
     "output_type": "execute_result"
    }
   ],
   "source": [
    "transactions = []\n",
    "for i in range(0, len(data)):\n",
    "    transactions.append([str(data.values[i, j]) for j in range(0, len(data.columns))])\n",
    "len(transactions), transactions[0]"
   ]
  },
  {
   "cell_type": "code",
   "execution_count": 67,
   "metadata": {},
   "outputs": [
    {
     "data": {
      "text/plain": [
       "[RelationRecord(items=frozenset({'42.0 - 50.0 R$', 'Borda True'}), support=0.006238859180035651, ordered_statistics=[OrderedStatistic(items_base=frozenset({'42.0 - 50.0 R$'}), items_add=frozenset({'Borda True'}), confidence=0.48275862068965514, lift=3.841526045487894)]),\n",
       " RelationRecord(items=frozenset({'Refrigerante True', '42.0 - 50.0 R$'}), support=0.011586452762923352, ordered_statistics=[OrderedStatistic(items_base=frozenset({'42.0 - 50.0 R$'}), items_add=frozenset({'Refrigerante True'}), confidence=0.896551724137931, lift=5.067662642230522)]),\n",
       " RelationRecord(items=frozenset({'34.0 - 42.0 R$', '10 - 21.5 minutes', 'Friday'}), support=0.0031194295900178253, ordered_statistics=[OrderedStatistic(items_base=frozenset({'34.0 - 42.0 R$', '10 - 21.5 minutes'}), items_add=frozenset({'Friday'}), confidence=0.5833333333333334, lift=3.072769953051643)]),\n",
       " RelationRecord(items=frozenset({'Friday', '10 - 21.5 minutes', 'End'}), support=0.0066844919786096255, ordered_statistics=[OrderedStatistic(items_base=frozenset({'10 - 21.5 minutes', 'End'}), items_add=frozenset({'Friday'}), confidence=0.6, lift=3.16056338028169), OrderedStatistic(items_base=frozenset({'10 - 21.5 minutes', 'Friday'}), items_add=frozenset({'End'}), confidence=0.5769230769230769, lift=3.1575984990619133)]),\n",
       " RelationRecord(items=frozenset({'Monday', '32.5 - 43.75 minutes', '18.0 - 26.0 R$'}), support=0.0035650623885918, ordered_statistics=[OrderedStatistic(items_base=frozenset({'Monday'}), items_add=frozenset({'32.5 - 43.75 minutes', '18.0 - 26.0 R$'}), confidence=0.5333333333333333, lift=5.136480686695279)])]"
      ]
     },
     "execution_count": 67,
     "metadata": {},
     "output_type": "execute_result"
    }
   ],
   "source": [
    "#Running apyori\n",
    "from apyori import apriori\n",
    "\n",
    "rules = list(apriori(transactions, \n",
    "                     min_support = 0.003,\n",
    "                     min_confidence = 0.2,\n",
    "                     min_lift = 3,\n",
    "                     min_lenght = 2))\n",
    "rules[0:5]"
   ]
  },
  {
   "cell_type": "code",
   "execution_count": 68,
   "metadata": {},
   "outputs": [
    {
     "data": {
      "text/plain": [
       "[[frozenset({'42.0 - 50.0 R$', 'Borda True'}),\n",
       "  0.006238859180035651,\n",
       "  [OrderedStatistic(items_base=frozenset({'42.0 - 50.0 R$'}), items_add=frozenset({'Borda True'}), confidence=0.48275862068965514, lift=3.841526045487894)]],\n",
       " [frozenset({'42.0 - 50.0 R$', 'Refrigerante True'}),\n",
       "  0.011586452762923352,\n",
       "  [OrderedStatistic(items_base=frozenset({'42.0 - 50.0 R$'}), items_add=frozenset({'Refrigerante True'}), confidence=0.896551724137931, lift=5.067662642230522)]],\n",
       " [frozenset({'10 - 21.5 minutes', '34.0 - 42.0 R$', 'Friday'}),\n",
       "  0.0031194295900178253,\n",
       "  [OrderedStatistic(items_base=frozenset({'34.0 - 42.0 R$', '10 - 21.5 minutes'}), items_add=frozenset({'Friday'}), confidence=0.5833333333333334, lift=3.072769953051643)]],\n",
       " [frozenset({'10 - 21.5 minutes', 'End', 'Friday'}),\n",
       "  0.0066844919786096255,\n",
       "  [OrderedStatistic(items_base=frozenset({'10 - 21.5 minutes', 'End'}), items_add=frozenset({'Friday'}), confidence=0.6, lift=3.16056338028169),\n",
       "   OrderedStatistic(items_base=frozenset({'10 - 21.5 minutes', 'Friday'}), items_add=frozenset({'End'}), confidence=0.5769230769230769, lift=3.1575984990619133)]],\n",
       " [frozenset({'18.0 - 26.0 R$', '32.5 - 43.75 minutes', 'Monday'}),\n",
       "  0.0035650623885918,\n",
       "  [OrderedStatistic(items_base=frozenset({'Monday'}), items_add=frozenset({'32.5 - 43.75 minutes', '18.0 - 26.0 R$'}), confidence=0.5333333333333333, lift=5.136480686695279)]]]"
      ]
     },
     "execution_count": 68,
     "metadata": {},
     "output_type": "execute_result"
    }
   ],
   "source": [
    "rules = [list(elements) for elements in rules]\n",
    "rules[0:5]"
   ]
  },
  {
   "cell_type": "code",
   "execution_count": 69,
   "metadata": {},
   "outputs": [
    {
     "name": "stdout",
     "output_type": "stream",
     "text": [
      "Regra: 0\n",
      "RelationRecord(items=frozenset({'Monday', '18.0 - 26.0 R$'}), support=0.004010695187165776, ordered_statistics=[OrderedStatistic(items_base=frozenset({'Monday'}), items_add=frozenset({'18.0 - 26.0 R$'}), confidence=0.6000000000000001, lift=2.1611556982343503)]) \n",
      "\n",
      "Regra: 1\n",
      "RelationRecord(items=frozenset({'Monday', '32.5 - 43.75 minutes'}), support=0.0053475935828877, ordered_statistics=[OrderedStatistic(items_base=frozenset({'Monday'}), items_add=frozenset({'32.5 - 43.75 minutes'}), confidence=0.7999999999999999, lift=2.1021077283372365)]) \n",
      "\n",
      "Regra: 2\n",
      "RelationRecord(items=frozenset({'Refrigerante True', '34.0 - 42.0 R$'}), support=0.08467023172905526, ordered_statistics=[OrderedStatistic(items_base=frozenset({'34.0 - 42.0 R$'}), items_add=frozenset({'Refrigerante True'}), confidence=0.35580524344569286, lift=2.011151048594798), OrderedStatistic(items_base=frozenset({'Refrigerante True'}), items_add=frozenset({'34.0 - 42.0 R$'}), confidence=0.47858942065491183, lift=2.011151048594798)]) \n",
      "\n",
      "Regra: 3\n",
      "RelationRecord(items=frozenset({'42.0 - 50.0 R$', 'Borda True'}), support=0.006238859180035651, ordered_statistics=[OrderedStatistic(items_base=frozenset({'42.0 - 50.0 R$'}), items_add=frozenset({'Borda True'}), confidence=0.48275862068965514, lift=3.841526045487894)]) \n",
      "\n",
      "Regra: 4\n",
      "RelationRecord(items=frozenset({'Refrigerante True', '42.0 - 50.0 R$'}), support=0.011586452762923352, ordered_statistics=[OrderedStatistic(items_base=frozenset({'42.0 - 50.0 R$'}), items_add=frozenset({'Refrigerante True'}), confidence=0.896551724137931, lift=5.067662642230522)]) \n",
      "\n"
     ]
    }
   ],
   "source": [
    "def show_rules(data, support = 0.003, confidence = 0.2, \n",
    "               lift = 2, lenght = 2, number_retorned = len(data)):\n",
    "    \"\"\"Must returns each rule existing in data\"\"\" \n",
    "    transactions = []\n",
    "    for i in range(0, len(data)):\n",
    "        transactions.append([str(data.values[i, j]) for j in range(0, len(data.columns))])\n",
    "    len(transactions), transactions[0]\n",
    "    rules = list(apriori(transactions, \n",
    "                     min_support = support,\n",
    "                     min_confidence = confidence,\n",
    "                     min_lift = lift,\n",
    "                     min_lenght = lenght))\n",
    "    for i in range(len(rules[:number_retorned])):\n",
    "        print('Regra:',i)\n",
    "        print(rules[:][i], '\\n')\n",
    "        \n",
    "show_rules(data, number_retorned=5)"
   ]
  },
  {
   "cell_type": "markdown",
   "metadata": {},
   "source": [
    "* As I have a large amount of columns in my df, I should set only specific columns to each rule instead off all columns\n",
    "\n",
    "\n",
    "* __Example:__ Lets take a look in the relation(week day and price)"
   ]
  },
  {
   "cell_type": "code",
   "execution_count": 80,
   "metadata": {},
   "outputs": [
    {
     "data": {
      "text/html": [
       "<div>\n",
       "<style scoped>\n",
       "    .dataframe tbody tr th:only-of-type {\n",
       "        vertical-align: middle;\n",
       "    }\n",
       "\n",
       "    .dataframe tbody tr th {\n",
       "        vertical-align: top;\n",
       "    }\n",
       "\n",
       "    .dataframe thead th {\n",
       "        text-align: right;\n",
       "    }\n",
       "</style>\n",
       "<table border=\"1\" class=\"dataframe\">\n",
       "  <thead>\n",
       "    <tr style=\"text-align: right;\">\n",
       "      <th></th>\n",
       "      <th>dia_da_semana</th>\n",
       "      <th>intervalo_valor</th>\n",
       "    </tr>\n",
       "  </thead>\n",
       "  <tbody>\n",
       "    <tr>\n",
       "      <th>0</th>\n",
       "      <td>Friday</td>\n",
       "      <td>26.0 - 34.0 R$</td>\n",
       "    </tr>\n",
       "    <tr>\n",
       "      <th>1</th>\n",
       "      <td>Friday</td>\n",
       "      <td>26.0 - 34.0 R$</td>\n",
       "    </tr>\n",
       "    <tr>\n",
       "      <th>2</th>\n",
       "      <td>Friday</td>\n",
       "      <td>26.0 - 34.0 R$</td>\n",
       "    </tr>\n",
       "    <tr>\n",
       "      <th>3</th>\n",
       "      <td>Friday</td>\n",
       "      <td>26.0 - 34.0 R$</td>\n",
       "    </tr>\n",
       "    <tr>\n",
       "      <th>4</th>\n",
       "      <td>Friday</td>\n",
       "      <td>26.0 - 34.0 R$</td>\n",
       "    </tr>\n",
       "    <tr>\n",
       "      <th>...</th>\n",
       "      <td>...</td>\n",
       "      <td>...</td>\n",
       "    </tr>\n",
       "    <tr>\n",
       "      <th>2239</th>\n",
       "      <td>Friday</td>\n",
       "      <td>26.0 - 34.0 R$</td>\n",
       "    </tr>\n",
       "    <tr>\n",
       "      <th>2240</th>\n",
       "      <td>Friday</td>\n",
       "      <td>26.0 - 34.0 R$</td>\n",
       "    </tr>\n",
       "    <tr>\n",
       "      <th>2241</th>\n",
       "      <td>Friday</td>\n",
       "      <td>34.0 - 42.0 R$</td>\n",
       "    </tr>\n",
       "    <tr>\n",
       "      <th>2242</th>\n",
       "      <td>Friday</td>\n",
       "      <td>26.0 - 34.0 R$</td>\n",
       "    </tr>\n",
       "    <tr>\n",
       "      <th>2243</th>\n",
       "      <td>Friday</td>\n",
       "      <td>26.0 - 34.0 R$</td>\n",
       "    </tr>\n",
       "  </tbody>\n",
       "</table>\n",
       "<p>2244 rows × 2 columns</p>\n",
       "</div>"
      ],
      "text/plain": [
       "     dia_da_semana intervalo_valor\n",
       "0           Friday  26.0 - 34.0 R$\n",
       "1           Friday  26.0 - 34.0 R$\n",
       "2           Friday  26.0 - 34.0 R$\n",
       "3           Friday  26.0 - 34.0 R$\n",
       "4           Friday  26.0 - 34.0 R$\n",
       "...            ...             ...\n",
       "2239        Friday  26.0 - 34.0 R$\n",
       "2240        Friday  26.0 - 34.0 R$\n",
       "2241        Friday  34.0 - 42.0 R$\n",
       "2242        Friday  26.0 - 34.0 R$\n",
       "2243        Friday  26.0 - 34.0 R$\n",
       "\n",
       "[2244 rows x 2 columns]"
      ]
     },
     "execution_count": 80,
     "metadata": {},
     "output_type": "execute_result"
    }
   ],
   "source": [
    "day_price = data[['dia_da_semana','intervalo_valor']]\n",
    "day_price"
   ]
  },
  {
   "cell_type": "code",
   "execution_count": 82,
   "metadata": {},
   "outputs": [
    {
     "name": "stdout",
     "output_type": "stream",
     "text": [
      "Regra: 0\n",
      "RelationRecord(items=frozenset({'Monday', '18.0 - 26.0 R$'}), support=0.004010695187165776, ordered_statistics=[OrderedStatistic(items_base=frozenset({'Monday'}), items_add=frozenset({'18.0 - 26.0 R$'}), confidence=0.6000000000000001, lift=2.1611556982343503)]) \n",
      "\n",
      "Regra: 1\n",
      "RelationRecord(items=frozenset({'Tuesday', '42.0 - 50.0 R$'}), support=0.0035650623885918, ordered_statistics=[OrderedStatistic(items_base=frozenset({'42.0 - 50.0 R$'}), items_add=frozenset({'Tuesday'}), confidence=0.2758620689655172, lift=2.009852216748768)]) \n",
      "\n"
     ]
    }
   ],
   "source": [
    "show_rules(day_price)"
   ]
  },
  {
   "cell_type": "markdown",
   "metadata": {},
   "source": [
    "* __Soda and price:__"
   ]
  },
  {
   "cell_type": "code",
   "execution_count": 83,
   "metadata": {},
   "outputs": [
    {
     "data": {
      "text/html": [
       "<div>\n",
       "<style scoped>\n",
       "    .dataframe tbody tr th:only-of-type {\n",
       "        vertical-align: middle;\n",
       "    }\n",
       "\n",
       "    .dataframe tbody tr th {\n",
       "        vertical-align: top;\n",
       "    }\n",
       "\n",
       "    .dataframe thead th {\n",
       "        text-align: right;\n",
       "    }\n",
       "</style>\n",
       "<table border=\"1\" class=\"dataframe\">\n",
       "  <thead>\n",
       "    <tr style=\"text-align: right;\">\n",
       "      <th></th>\n",
       "      <th>refrigerante</th>\n",
       "      <th>intervalo_valor</th>\n",
       "    </tr>\n",
       "  </thead>\n",
       "  <tbody>\n",
       "    <tr>\n",
       "      <th>0</th>\n",
       "      <td>Refrigerante False</td>\n",
       "      <td>26.0 - 34.0 R$</td>\n",
       "    </tr>\n",
       "    <tr>\n",
       "      <th>1</th>\n",
       "      <td>Refrigerante False</td>\n",
       "      <td>26.0 - 34.0 R$</td>\n",
       "    </tr>\n",
       "    <tr>\n",
       "      <th>2</th>\n",
       "      <td>Refrigerante False</td>\n",
       "      <td>26.0 - 34.0 R$</td>\n",
       "    </tr>\n",
       "    <tr>\n",
       "      <th>3</th>\n",
       "      <td>Refrigerante False</td>\n",
       "      <td>26.0 - 34.0 R$</td>\n",
       "    </tr>\n",
       "    <tr>\n",
       "      <th>4</th>\n",
       "      <td>Refrigerante False</td>\n",
       "      <td>26.0 - 34.0 R$</td>\n",
       "    </tr>\n",
       "    <tr>\n",
       "      <th>...</th>\n",
       "      <td>...</td>\n",
       "      <td>...</td>\n",
       "    </tr>\n",
       "    <tr>\n",
       "      <th>2239</th>\n",
       "      <td>Refrigerante False</td>\n",
       "      <td>26.0 - 34.0 R$</td>\n",
       "    </tr>\n",
       "    <tr>\n",
       "      <th>2240</th>\n",
       "      <td>Refrigerante False</td>\n",
       "      <td>26.0 - 34.0 R$</td>\n",
       "    </tr>\n",
       "    <tr>\n",
       "      <th>2241</th>\n",
       "      <td>Refrigerante False</td>\n",
       "      <td>34.0 - 42.0 R$</td>\n",
       "    </tr>\n",
       "    <tr>\n",
       "      <th>2242</th>\n",
       "      <td>Refrigerante False</td>\n",
       "      <td>26.0 - 34.0 R$</td>\n",
       "    </tr>\n",
       "    <tr>\n",
       "      <th>2243</th>\n",
       "      <td>Refrigerante False</td>\n",
       "      <td>26.0 - 34.0 R$</td>\n",
       "    </tr>\n",
       "  </tbody>\n",
       "</table>\n",
       "<p>2244 rows × 2 columns</p>\n",
       "</div>"
      ],
      "text/plain": [
       "            refrigerante intervalo_valor\n",
       "0     Refrigerante False  26.0 - 34.0 R$\n",
       "1     Refrigerante False  26.0 - 34.0 R$\n",
       "2     Refrigerante False  26.0 - 34.0 R$\n",
       "3     Refrigerante False  26.0 - 34.0 R$\n",
       "4     Refrigerante False  26.0 - 34.0 R$\n",
       "...                  ...             ...\n",
       "2239  Refrigerante False  26.0 - 34.0 R$\n",
       "2240  Refrigerante False  26.0 - 34.0 R$\n",
       "2241  Refrigerante False  34.0 - 42.0 R$\n",
       "2242  Refrigerante False  26.0 - 34.0 R$\n",
       "2243  Refrigerante False  26.0 - 34.0 R$\n",
       "\n",
       "[2244 rows x 2 columns]"
      ]
     },
     "execution_count": 83,
     "metadata": {},
     "output_type": "execute_result"
    }
   ],
   "source": [
    "soda_price = data[['refrigerante','intervalo_valor']]\n",
    "soda_price"
   ]
  },
  {
   "cell_type": "code",
   "execution_count": 106,
   "metadata": {},
   "outputs": [
    {
     "name": "stdout",
     "output_type": "stream",
     "text": [
      "Regra: 0\n",
      "RelationRecord(items=frozenset({'Refrigerante True', '34.0 - 42.0 R$'}), support=0.08467023172905526, ordered_statistics=[OrderedStatistic(items_base=frozenset({'34.0 - 42.0 R$'}), items_add=frozenset({'Refrigerante True'}), confidence=0.35580524344569286, lift=2.011151048594798), OrderedStatistic(items_base=frozenset({'Refrigerante True'}), items_add=frozenset({'34.0 - 42.0 R$'}), confidence=0.47858942065491183, lift=2.011151048594798)]) \n",
      "\n",
      "Regra: 1\n",
      "RelationRecord(items=frozenset({'Refrigerante True', '42.0 - 50.0 R$'}), support=0.011586452762923352, ordered_statistics=[OrderedStatistic(items_base=frozenset({'42.0 - 50.0 R$'}), items_add=frozenset({'Refrigerante True'}), confidence=0.896551724137931, lift=5.067662642230522)]) \n",
      "\n"
     ]
    }
   ],
   "source": [
    "show_rules(soda_price)"
   ]
  },
  {
   "cell_type": "markdown",
   "metadata": {},
   "source": [
    "* __OBS:__\n",
    ">Analysing the above result, we can observe that the soda is likely bought when total price is high. We can supose the people buy pizza and soda together for higher value from pizza, or wen people buy more than one pizza unity. This makes sense, because if more than one pizza is bought in a single order, it is reasonable to assume the pizzas was bought for a large amount of people (big family, or big amount of friends). "
   ]
  }
 ],
 "metadata": {
  "kernelspec": {
   "display_name": "Python 3",
   "language": "python",
   "name": "python3"
  },
  "language_info": {
   "codemirror_mode": {
    "name": "ipython",
    "version": 3
   },
   "file_extension": ".py",
   "mimetype": "text/x-python",
   "name": "python",
   "nbconvert_exporter": "python",
   "pygments_lexer": "ipython3",
   "version": "3.7.0"
  }
 },
 "nbformat": 4,
 "nbformat_minor": 4
}
